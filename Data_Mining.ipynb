{
  "nbformat": 4,
  "nbformat_minor": 0,
  "metadata": {
    "kernelspec": {
      "display_name": "Python 3",
      "language": "python",
      "name": "python3"
    },
    "language_info": {
      "codemirror_mode": {
        "name": "ipython",
        "version": 3
      },
      "file_extension": ".py",
      "mimetype": "text/x-python",
      "name": "python",
      "nbconvert_exporter": "python",
      "pygments_lexer": "ipython3",
      "version": "3.8.5"
    },
    "colab": {
      "name": "Copy of Data Mining.ipynb",
      "provenance": [],
      "collapsed_sections": []
    }
  },
  "cells": [
    {
      "cell_type": "markdown",
      "source": [
        "# **DATA MINING**\n"
      ],
      "metadata": {
        "id": "r-6OhXzy0OIc"
      }
    },
    {
      "cell_type": "markdown",
      "source": [
        "### **Tasks**: \n",
        "**PRE-PROCESSSING**\n",
        "- - - \n",
        "- EDA \n",
        "- Feature Selection\n",
        "- Standardize \n",
        "- Detect Global Outliers\n",
        "- Normalize\n",
        "- Feature Extraction with **`PCA`**\n",
        "- PCA Features Contribution to Cumulative Explained Variance \n",
        "<br><br>\n",
        "\n",
        "**CLUSTERING**\n",
        "- - - \n",
        "- **`Silhouette Analysis`** for Finding the Optimal Number of Clusters\n",
        "- **`Clustering`** with K-Means and Gaussian Mixture Algorithms\n",
        "- Choose between K-Means and Gaussian Mixture to Predict the Labels\n",
        "<br><br>\n",
        "\n",
        "**CLASSIFICATION**\n",
        "- - - \n",
        "- **`Classification`** with **`K-NN`** and **`SVM`**, using **`Hyperparameter Tuning`** with  **`GridSeachCV`**\n",
        "- Classification Report\n",
        "- - -\n",
        "<br>"
      ],
      "metadata": {
        "id": "Lnq_2T_J0cdH"
      }
    },
    {
      "cell_type": "markdown",
      "source": [
        "#### The data is a **subset** of publicly available (from https://www.meteoblue.com/) data about climate in **Basel**, Switzerland, which contains **1763** records of data (for **18 features**) from the **summer** and the **winter seasons** from 2010 to 2019 period and can be found [here](https://github.com/josepaulosa/Data_Mining/blob/main/Data.txt). <br><br>The meaning of each column of data is listed bellow:\n",
        "- Temperature (Min) ºC.\n",
        "- Temperature (Max) ºC.\n",
        "- Temperature (Mean) ºC.\n",
        "-\tRelative Humidity (Min) %.\n",
        "-\tRelative Humidity (Max) %.\n",
        "-\tRelative Humidity (Mean) %.\n",
        "-\tSea Level Pressure (Min) hPa.\n",
        "-\tSea Level Pressure (Max) hPa.\n",
        "-\tSea Level Pressure (Mean) hPa.\n",
        "-\tPrecipitation Total mm.\n",
        "-\tSnowfall Amount cm.\n",
        "-\tSunshine Duration min.\n",
        "-\tWind Gust (Min) Km/h.\n",
        "-\tWind Gust (Max) Km/h.\n",
        "-\tWind Gust (Mean) Km/h.\n",
        "-\tWind Speed (Min) Km/h.\n",
        "- Wind Speed (Max) Km/h.\n",
        "- Wind Speed (Mean) Km/h<br><br>\n"
      ],
      "metadata": {
        "id": "0yWQ7JQJ0cxx"
      }
    },
    {
      "cell_type": "markdown",
      "source": [
        "## 1. **Pre-processing**\n",
        "- - - "
      ],
      "metadata": {
        "id": "vWd1aGCWqtU6"
      }
    },
    {
      "cell_type": "markdown",
      "source": [
        "#### **Import required libraries**"
      ],
      "metadata": {
        "id": "Em8yIozrADCm"
      }
    },
    {
      "cell_type": "code",
      "source": [
        "import pandas as pd\n",
        "import numpy as np\n",
        "\n",
        "from google.colab import drive\n",
        "\n",
        "import seaborn as sns\n",
        "import matplotlib.pyplot as plt\n",
        "from matplotlib.pyplot import figure\n",
        "%matplotlib inline\n",
        "\n",
        "from sklearn.decomposition import PCA\n",
        "from sklearn.cluster import KMeans\n",
        "from sklearn.mixture import GaussianMixture\n",
        "from sklearn.metrics import classification_report, accuracy_score, f1_score, precision_score, recall_score, confusion_matrix, silhouette_score\n",
        "from sklearn.preprocessing import StandardScaler\n",
        "\n",
        "from sklearn import svm\n",
        "from sklearn.neighbors import KNeighborsClassifier\n",
        "from sklearn.model_selection import train_test_split\n",
        "from sklearn.model_selection import GridSearchCV\n",
        "\n",
        "import sys\n",
        "import os\n",
        "import warnings\n",
        "if not sys.warnoptions:\n",
        "    warnings.simplefilter(\"ignore\")\n",
        "    os.environ[\"PYTHONWARNINGS\"] = \"ignore\" "
      ],
      "metadata": {
        "id": "8MiJhMG10Dkm"
      },
      "execution_count": 1,
      "outputs": []
    },
    {
      "cell_type": "code",
      "source": [
        "drive.mount('/content/drive')"
      ],
      "metadata": {
        "colab": {
          "base_uri": "https://localhost:8080/"
        },
        "id": "T5F5-2WhUuiT",
        "outputId": "d248df2a-5524-44fc-f4ac-b35f1eabdcd4"
      },
      "execution_count": 2,
      "outputs": [
        {
          "output_type": "stream",
          "name": "stdout",
          "text": [
            "Mounted at /content/drive\n"
          ]
        }
      ]
    },
    {
      "cell_type": "code",
      "source": [
        "temperature_columns = [\"Temperature (Min) ºC.\", \"Temperature (Max) ºC.\", \"Temperature (Mean) ºC.\"]\n",
        "humidity_columns = [\"Relative Humidity (Min) %\", \"Relative Humidity (Max) %\", \"Relative Humidity (Mean) %\"]\n",
        "sea_level_columns = [\"Sea Level Pressure (Min) hPa\", \"Sea Level Pressure (Max) hPa\", \"Sea Level Pressure (Mean) hPa\"]\n",
        "other_columns = [\"Precipitation Total mm\", \"Snowfall Amount cm\", \"Sunshine Duration min\"]\n",
        "wind_gust_columns = [\"Wind Gust (Min) Km/h\", \"Wind Gust (Max) Km/h\", \"Wind Gust (Mean) Km/h\"]\n",
        "wind_speed_columns = [\"Wind Speed (Min) Km/h\", \"Wind Speed (Max) Km/h\", \"Wind Speed (Mean) Km/h\"]\n",
        "columns = temperature_columns + humidity_columns + sea_level_columns + \\\n",
        "          other_columns + wind_gust_columns + wind_speed_columns"
      ],
      "metadata": {
        "id": "ab1uP_iB7fAD"
      },
      "execution_count": 3,
      "outputs": []
    },
    {
      "cell_type": "markdown",
      "source": [
        "#### **Read the dataset**\n"
      ],
      "metadata": {
        "id": "Zf6XiuNU1etT"
      }
    },
    {
      "cell_type": "code",
      "source": [
        "df = pd.read_csv('/content/drive/MyDrive/Data.txt', sep=\",\", header=0, names = columns)"
      ],
      "metadata": {
        "id": "FEIG1MM56aLh"
      },
      "execution_count": 4,
      "outputs": []
    },
    {
      "cell_type": "code",
      "metadata": {
        "id": "CW2M3VUScgId",
        "colab": {
          "base_uri": "https://localhost:8080/",
          "height": 340
        },
        "outputId": "d76b4eb1-615d-4c22-f8d6-a96752b69412"
      },
      "source": [
        "df.head()"
      ],
      "execution_count": 5,
      "outputs": [
        {
          "output_type": "execute_result",
          "data": {
            "text/plain": [
              "   Temperature (Min) ºC.  Temperature (Max) ºC.  Temperature (Mean) ºC.  \\\n",
              "0              11.110529              18.490528               14.988861   \n",
              "1              10.320529              18.170528               14.267612   \n",
              "2              10.450529              24.980530               17.309278   \n",
              "3              12.350529              25.610529               19.881780   \n",
              "4              17.690529              26.250528               21.623444   \n",
              "\n",
              "   Relative Humidity (Min) %  Relative Humidity (Max) %  \\\n",
              "0                         59                         94   \n",
              "1                         71                         96   \n",
              "2                         54                         92   \n",
              "3                         47                         88   \n",
              "4                         57                         91   \n",
              "\n",
              "   Relative Humidity (Mean) %  Sea Level Pressure (Min) hPa  \\\n",
              "0                   76.458336                        1013.9   \n",
              "1                   83.583336                        1015.3   \n",
              "2                   77.625000                        1015.9   \n",
              "3                   66.583336                        1015.7   \n",
              "4                   69.500000                        1012.6   \n",
              "\n",
              "   Sea Level Pressure (Max) hPa  Sea Level Pressure (Mean) hPa  \\\n",
              "0                        1016.6                     1014.99170   \n",
              "1                        1017.5                     1016.38745   \n",
              "2                        1018.7                     1017.26250   \n",
              "3                        1020.7                     1018.18353   \n",
              "4                        1015.7                     1014.59160   \n",
              "\n",
              "   Precipitation Total mm  Snowfall Amount cm  Sunshine Duration min  \\\n",
              "0                     1.9                 0.0              287.23404   \n",
              "1                     0.1                 0.0              126.26506   \n",
              "2                     0.0                 0.0              881.24710   \n",
              "3                     0.0                 0.0              951.56665   \n",
              "4                     1.1                 0.0              440.98970   \n",
              "\n",
              "   Wind Gust (Min) Km/h  Wind Gust (Max) Km/h  Wind Gust (Mean) Km/h  \\\n",
              "0              6.479999             25.199999              14.880001   \n",
              "1              3.240000             24.119999              12.764999   \n",
              "2              2.160000             20.160000               9.480000   \n",
              "3              0.720000             15.840000               5.565001   \n",
              "4              1.080000             41.760002              13.500000   \n",
              "\n",
              "   Wind Speed (Min) Km/h  Wind Speed (Max) Km/h  Wind Speed (Mean) Km/h  \n",
              "0               4.161301              16.285300                8.616541  \n",
              "1               2.028842              11.289829                6.372418  \n",
              "2               0.799200              11.483046                4.690738  \n",
              "3               0.376746               6.443357                3.311275  \n",
              "4               1.787066              16.802220                6.217993  "
            ],
            "text/html": [
              "\n",
              "  <div id=\"df-83d5a24e-d75a-4600-a895-bd11ca3e3cef\">\n",
              "    <div class=\"colab-df-container\">\n",
              "      <div>\n",
              "<style scoped>\n",
              "    .dataframe tbody tr th:only-of-type {\n",
              "        vertical-align: middle;\n",
              "    }\n",
              "\n",
              "    .dataframe tbody tr th {\n",
              "        vertical-align: top;\n",
              "    }\n",
              "\n",
              "    .dataframe thead th {\n",
              "        text-align: right;\n",
              "    }\n",
              "</style>\n",
              "<table border=\"1\" class=\"dataframe\">\n",
              "  <thead>\n",
              "    <tr style=\"text-align: right;\">\n",
              "      <th></th>\n",
              "      <th>Temperature (Min) ºC.</th>\n",
              "      <th>Temperature (Max) ºC.</th>\n",
              "      <th>Temperature (Mean) ºC.</th>\n",
              "      <th>Relative Humidity (Min) %</th>\n",
              "      <th>Relative Humidity (Max) %</th>\n",
              "      <th>Relative Humidity (Mean) %</th>\n",
              "      <th>Sea Level Pressure (Min) hPa</th>\n",
              "      <th>Sea Level Pressure (Max) hPa</th>\n",
              "      <th>Sea Level Pressure (Mean) hPa</th>\n",
              "      <th>Precipitation Total mm</th>\n",
              "      <th>Snowfall Amount cm</th>\n",
              "      <th>Sunshine Duration min</th>\n",
              "      <th>Wind Gust (Min) Km/h</th>\n",
              "      <th>Wind Gust (Max) Km/h</th>\n",
              "      <th>Wind Gust (Mean) Km/h</th>\n",
              "      <th>Wind Speed (Min) Km/h</th>\n",
              "      <th>Wind Speed (Max) Km/h</th>\n",
              "      <th>Wind Speed (Mean) Km/h</th>\n",
              "    </tr>\n",
              "  </thead>\n",
              "  <tbody>\n",
              "    <tr>\n",
              "      <th>0</th>\n",
              "      <td>11.110529</td>\n",
              "      <td>18.490528</td>\n",
              "      <td>14.988861</td>\n",
              "      <td>59</td>\n",
              "      <td>94</td>\n",
              "      <td>76.458336</td>\n",
              "      <td>1013.9</td>\n",
              "      <td>1016.6</td>\n",
              "      <td>1014.99170</td>\n",
              "      <td>1.9</td>\n",
              "      <td>0.0</td>\n",
              "      <td>287.23404</td>\n",
              "      <td>6.479999</td>\n",
              "      <td>25.199999</td>\n",
              "      <td>14.880001</td>\n",
              "      <td>4.161301</td>\n",
              "      <td>16.285300</td>\n",
              "      <td>8.616541</td>\n",
              "    </tr>\n",
              "    <tr>\n",
              "      <th>1</th>\n",
              "      <td>10.320529</td>\n",
              "      <td>18.170528</td>\n",
              "      <td>14.267612</td>\n",
              "      <td>71</td>\n",
              "      <td>96</td>\n",
              "      <td>83.583336</td>\n",
              "      <td>1015.3</td>\n",
              "      <td>1017.5</td>\n",
              "      <td>1016.38745</td>\n",
              "      <td>0.1</td>\n",
              "      <td>0.0</td>\n",
              "      <td>126.26506</td>\n",
              "      <td>3.240000</td>\n",
              "      <td>24.119999</td>\n",
              "      <td>12.764999</td>\n",
              "      <td>2.028842</td>\n",
              "      <td>11.289829</td>\n",
              "      <td>6.372418</td>\n",
              "    </tr>\n",
              "    <tr>\n",
              "      <th>2</th>\n",
              "      <td>10.450529</td>\n",
              "      <td>24.980530</td>\n",
              "      <td>17.309278</td>\n",
              "      <td>54</td>\n",
              "      <td>92</td>\n",
              "      <td>77.625000</td>\n",
              "      <td>1015.9</td>\n",
              "      <td>1018.7</td>\n",
              "      <td>1017.26250</td>\n",
              "      <td>0.0</td>\n",
              "      <td>0.0</td>\n",
              "      <td>881.24710</td>\n",
              "      <td>2.160000</td>\n",
              "      <td>20.160000</td>\n",
              "      <td>9.480000</td>\n",
              "      <td>0.799200</td>\n",
              "      <td>11.483046</td>\n",
              "      <td>4.690738</td>\n",
              "    </tr>\n",
              "    <tr>\n",
              "      <th>3</th>\n",
              "      <td>12.350529</td>\n",
              "      <td>25.610529</td>\n",
              "      <td>19.881780</td>\n",
              "      <td>47</td>\n",
              "      <td>88</td>\n",
              "      <td>66.583336</td>\n",
              "      <td>1015.7</td>\n",
              "      <td>1020.7</td>\n",
              "      <td>1018.18353</td>\n",
              "      <td>0.0</td>\n",
              "      <td>0.0</td>\n",
              "      <td>951.56665</td>\n",
              "      <td>0.720000</td>\n",
              "      <td>15.840000</td>\n",
              "      <td>5.565001</td>\n",
              "      <td>0.376746</td>\n",
              "      <td>6.443357</td>\n",
              "      <td>3.311275</td>\n",
              "    </tr>\n",
              "    <tr>\n",
              "      <th>4</th>\n",
              "      <td>17.690529</td>\n",
              "      <td>26.250528</td>\n",
              "      <td>21.623444</td>\n",
              "      <td>57</td>\n",
              "      <td>91</td>\n",
              "      <td>69.500000</td>\n",
              "      <td>1012.6</td>\n",
              "      <td>1015.7</td>\n",
              "      <td>1014.59160</td>\n",
              "      <td>1.1</td>\n",
              "      <td>0.0</td>\n",
              "      <td>440.98970</td>\n",
              "      <td>1.080000</td>\n",
              "      <td>41.760002</td>\n",
              "      <td>13.500000</td>\n",
              "      <td>1.787066</td>\n",
              "      <td>16.802220</td>\n",
              "      <td>6.217993</td>\n",
              "    </tr>\n",
              "  </tbody>\n",
              "</table>\n",
              "</div>\n",
              "      <button class=\"colab-df-convert\" onclick=\"convertToInteractive('df-83d5a24e-d75a-4600-a895-bd11ca3e3cef')\"\n",
              "              title=\"Convert this dataframe to an interactive table.\"\n",
              "              style=\"display:none;\">\n",
              "        \n",
              "  <svg xmlns=\"http://www.w3.org/2000/svg\" height=\"24px\"viewBox=\"0 0 24 24\"\n",
              "       width=\"24px\">\n",
              "    <path d=\"M0 0h24v24H0V0z\" fill=\"none\"/>\n",
              "    <path d=\"M18.56 5.44l.94 2.06.94-2.06 2.06-.94-2.06-.94-.94-2.06-.94 2.06-2.06.94zm-11 1L8.5 8.5l.94-2.06 2.06-.94-2.06-.94L8.5 2.5l-.94 2.06-2.06.94zm10 10l.94 2.06.94-2.06 2.06-.94-2.06-.94-.94-2.06-.94 2.06-2.06.94z\"/><path d=\"M17.41 7.96l-1.37-1.37c-.4-.4-.92-.59-1.43-.59-.52 0-1.04.2-1.43.59L10.3 9.45l-7.72 7.72c-.78.78-.78 2.05 0 2.83L4 21.41c.39.39.9.59 1.41.59.51 0 1.02-.2 1.41-.59l7.78-7.78 2.81-2.81c.8-.78.8-2.07 0-2.86zM5.41 20L4 18.59l7.72-7.72 1.47 1.35L5.41 20z\"/>\n",
              "  </svg>\n",
              "      </button>\n",
              "      \n",
              "  <style>\n",
              "    .colab-df-container {\n",
              "      display:flex;\n",
              "      flex-wrap:wrap;\n",
              "      gap: 12px;\n",
              "    }\n",
              "\n",
              "    .colab-df-convert {\n",
              "      background-color: #E8F0FE;\n",
              "      border: none;\n",
              "      border-radius: 50%;\n",
              "      cursor: pointer;\n",
              "      display: none;\n",
              "      fill: #1967D2;\n",
              "      height: 32px;\n",
              "      padding: 0 0 0 0;\n",
              "      width: 32px;\n",
              "    }\n",
              "\n",
              "    .colab-df-convert:hover {\n",
              "      background-color: #E2EBFA;\n",
              "      box-shadow: 0px 1px 2px rgba(60, 64, 67, 0.3), 0px 1px 3px 1px rgba(60, 64, 67, 0.15);\n",
              "      fill: #174EA6;\n",
              "    }\n",
              "\n",
              "    [theme=dark] .colab-df-convert {\n",
              "      background-color: #3B4455;\n",
              "      fill: #D2E3FC;\n",
              "    }\n",
              "\n",
              "    [theme=dark] .colab-df-convert:hover {\n",
              "      background-color: #434B5C;\n",
              "      box-shadow: 0px 1px 3px 1px rgba(0, 0, 0, 0.15);\n",
              "      filter: drop-shadow(0px 1px 2px rgba(0, 0, 0, 0.3));\n",
              "      fill: #FFFFFF;\n",
              "    }\n",
              "  </style>\n",
              "\n",
              "      <script>\n",
              "        const buttonEl =\n",
              "          document.querySelector('#df-83d5a24e-d75a-4600-a895-bd11ca3e3cef button.colab-df-convert');\n",
              "        buttonEl.style.display =\n",
              "          google.colab.kernel.accessAllowed ? 'block' : 'none';\n",
              "\n",
              "        async function convertToInteractive(key) {\n",
              "          const element = document.querySelector('#df-83d5a24e-d75a-4600-a895-bd11ca3e3cef');\n",
              "          const dataTable =\n",
              "            await google.colab.kernel.invokeFunction('convertToInteractive',\n",
              "                                                     [key], {});\n",
              "          if (!dataTable) return;\n",
              "\n",
              "          const docLinkHtml = 'Like what you see? Visit the ' +\n",
              "            '<a target=\"_blank\" href=https://colab.research.google.com/notebooks/data_table.ipynb>data table notebook</a>'\n",
              "            + ' to learn more about interactive tables.';\n",
              "          element.innerHTML = '';\n",
              "          dataTable['output_type'] = 'display_data';\n",
              "          await google.colab.output.renderOutput(dataTable, element);\n",
              "          const docLink = document.createElement('div');\n",
              "          docLink.innerHTML = docLinkHtml;\n",
              "          element.appendChild(docLink);\n",
              "        }\n",
              "      </script>\n",
              "    </div>\n",
              "  </div>\n",
              "  "
            ]
          },
          "metadata": {},
          "execution_count": 5
        }
      ]
    },
    {
      "cell_type": "markdown",
      "source": [
        "#### **Comment:** The data is **unlabeled**.<br><br>"
      ],
      "metadata": {
        "id": "0Po4O7kyXGZy"
      }
    },
    {
      "cell_type": "markdown",
      "source": [
        "#### **Descriptive statistics**"
      ],
      "metadata": {
        "id": "CW-6rcSOJ3or"
      }
    },
    {
      "cell_type": "code",
      "metadata": {
        "scrolled": true,
        "id": "JNV6ohR4cgIh",
        "outputId": "a00d08c0-c4ae-4854-8790-f1f731509a4c",
        "colab": {
          "base_uri": "https://localhost:8080/",
          "height": 399
        }
      },
      "source": [
        "df.describe()"
      ],
      "execution_count": 6,
      "outputs": [
        {
          "output_type": "execute_result",
          "data": {
            "text/plain": [
              "       Temperature (Min) ºC.  Temperature (Max) ºC.  Temperature (Mean) ºC.  \\\n",
              "count            1762.000000            1762.000000             1762.000000   \n",
              "mean                8.739138              16.778849               12.716937   \n",
              "std                 7.805901               9.650489                8.791033   \n",
              "min               -12.519471              -4.389471               -7.628222   \n",
              "25%                 1.695529               8.200529                4.687821   \n",
              "50%                10.230529              17.400530               14.633654   \n",
              "75%                15.530529              25.190529               20.433550   \n",
              "max                25.820530              36.700527               30.425112   \n",
              "\n",
              "       Relative Humidity (Min) %  Relative Humidity (Max) %  \\\n",
              "count                1762.000000                1762.000000   \n",
              "mean                   54.088536                  86.999432   \n",
              "std                    12.952457                   7.891405   \n",
              "min                    19.000000                  53.000000   \n",
              "25%                    44.000000                  82.000000   \n",
              "50%                    54.000000                  88.000000   \n",
              "75%                    64.000000                  93.000000   \n",
              "max                    93.000000                 100.000000   \n",
              "\n",
              "       Relative Humidity (Mean) %  Sea Level Pressure (Min) hPa  \\\n",
              "count                 1762.000000                   1762.000000   \n",
              "mean                    71.036630                   1014.691827   \n",
              "std                     10.013695                      8.850681   \n",
              "min                     38.333332                    976.100000   \n",
              "25%                     63.510417                   1010.300000   \n",
              "50%                     72.000000                   1014.600000   \n",
              "75%                     78.750000                   1019.300000   \n",
              "max                     95.250000                   1043.600000   \n",
              "\n",
              "       Sea Level Pressure (Max) hPa  Sea Level Pressure (Mean) hPa  \\\n",
              "count                   1762.000000                    1762.000000   \n",
              "mean                    1020.365607                    1017.577424   \n",
              "std                        8.016272                       8.284536   \n",
              "min                      981.400000                     978.450000   \n",
              "25%                     1015.900000                    1013.231325   \n",
              "50%                     1019.500000                    1016.956170   \n",
              "75%                     1024.400000                    1021.761427   \n",
              "max                     1049.900000                    1047.095800   \n",
              "\n",
              "       Precipitation Total mm  Snowfall Amount cm  Sunshine Duration min  \\\n",
              "count             1762.000000         1762.000000            1762.000000   \n",
              "mean                 1.503632            0.068053             399.195825   \n",
              "std                  3.497564            0.514078             294.742242   \n",
              "min                  0.000000            0.000000               0.000000   \n",
              "25%                  0.000000            0.000000             123.724200   \n",
              "50%                  0.000000            0.000000             387.787200   \n",
              "75%                  1.200000            0.000000             619.203330   \n",
              "max                 37.399994           13.860001             962.283300   \n",
              "\n",
              "       Wind Gust (Min) Km/h  Wind Gust (Max) Km/h  Wind Gust (Mean) Km/h  \\\n",
              "count           1762.000000           1762.000000            1762.000000   \n",
              "mean               7.237593             30.468217              17.570124   \n",
              "std                8.223633             16.495244              11.507308   \n",
              "min                0.000000              4.320000               2.715000   \n",
              "25%                2.160000             19.080000               9.757499   \n",
              "50%                4.320000             26.280000              14.145001   \n",
              "75%                8.910000             37.440000              21.678751   \n",
              "max               57.960000            133.200000              90.749990   \n",
              "\n",
              "       Wind Speed (Min) Km/h  Wind Speed (Max) Km/h  Wind Speed (Mean) Km/h  \n",
              "count            1762.000000            1762.000000             1762.000000  \n",
              "mean                2.933495              14.861291                8.419848  \n",
              "std                 3.471646               7.872767                5.206912  \n",
              "min                 0.000000               2.881557                1.495064  \n",
              "25%                 0.842431               9.304952                4.871309  \n",
              "50%                 1.864800              12.988194                6.941605  \n",
              "75%                 3.729600              18.398964               10.111403  \n",
              "max                26.673279              59.192370               36.360706  "
            ],
            "text/html": [
              "\n",
              "  <div id=\"df-03776c95-5d92-46e7-9987-cdb257d50426\">\n",
              "    <div class=\"colab-df-container\">\n",
              "      <div>\n",
              "<style scoped>\n",
              "    .dataframe tbody tr th:only-of-type {\n",
              "        vertical-align: middle;\n",
              "    }\n",
              "\n",
              "    .dataframe tbody tr th {\n",
              "        vertical-align: top;\n",
              "    }\n",
              "\n",
              "    .dataframe thead th {\n",
              "        text-align: right;\n",
              "    }\n",
              "</style>\n",
              "<table border=\"1\" class=\"dataframe\">\n",
              "  <thead>\n",
              "    <tr style=\"text-align: right;\">\n",
              "      <th></th>\n",
              "      <th>Temperature (Min) ºC.</th>\n",
              "      <th>Temperature (Max) ºC.</th>\n",
              "      <th>Temperature (Mean) ºC.</th>\n",
              "      <th>Relative Humidity (Min) %</th>\n",
              "      <th>Relative Humidity (Max) %</th>\n",
              "      <th>Relative Humidity (Mean) %</th>\n",
              "      <th>Sea Level Pressure (Min) hPa</th>\n",
              "      <th>Sea Level Pressure (Max) hPa</th>\n",
              "      <th>Sea Level Pressure (Mean) hPa</th>\n",
              "      <th>Precipitation Total mm</th>\n",
              "      <th>Snowfall Amount cm</th>\n",
              "      <th>Sunshine Duration min</th>\n",
              "      <th>Wind Gust (Min) Km/h</th>\n",
              "      <th>Wind Gust (Max) Km/h</th>\n",
              "      <th>Wind Gust (Mean) Km/h</th>\n",
              "      <th>Wind Speed (Min) Km/h</th>\n",
              "      <th>Wind Speed (Max) Km/h</th>\n",
              "      <th>Wind Speed (Mean) Km/h</th>\n",
              "    </tr>\n",
              "  </thead>\n",
              "  <tbody>\n",
              "    <tr>\n",
              "      <th>count</th>\n",
              "      <td>1762.000000</td>\n",
              "      <td>1762.000000</td>\n",
              "      <td>1762.000000</td>\n",
              "      <td>1762.000000</td>\n",
              "      <td>1762.000000</td>\n",
              "      <td>1762.000000</td>\n",
              "      <td>1762.000000</td>\n",
              "      <td>1762.000000</td>\n",
              "      <td>1762.000000</td>\n",
              "      <td>1762.000000</td>\n",
              "      <td>1762.000000</td>\n",
              "      <td>1762.000000</td>\n",
              "      <td>1762.000000</td>\n",
              "      <td>1762.000000</td>\n",
              "      <td>1762.000000</td>\n",
              "      <td>1762.000000</td>\n",
              "      <td>1762.000000</td>\n",
              "      <td>1762.000000</td>\n",
              "    </tr>\n",
              "    <tr>\n",
              "      <th>mean</th>\n",
              "      <td>8.739138</td>\n",
              "      <td>16.778849</td>\n",
              "      <td>12.716937</td>\n",
              "      <td>54.088536</td>\n",
              "      <td>86.999432</td>\n",
              "      <td>71.036630</td>\n",
              "      <td>1014.691827</td>\n",
              "      <td>1020.365607</td>\n",
              "      <td>1017.577424</td>\n",
              "      <td>1.503632</td>\n",
              "      <td>0.068053</td>\n",
              "      <td>399.195825</td>\n",
              "      <td>7.237593</td>\n",
              "      <td>30.468217</td>\n",
              "      <td>17.570124</td>\n",
              "      <td>2.933495</td>\n",
              "      <td>14.861291</td>\n",
              "      <td>8.419848</td>\n",
              "    </tr>\n",
              "    <tr>\n",
              "      <th>std</th>\n",
              "      <td>7.805901</td>\n",
              "      <td>9.650489</td>\n",
              "      <td>8.791033</td>\n",
              "      <td>12.952457</td>\n",
              "      <td>7.891405</td>\n",
              "      <td>10.013695</td>\n",
              "      <td>8.850681</td>\n",
              "      <td>8.016272</td>\n",
              "      <td>8.284536</td>\n",
              "      <td>3.497564</td>\n",
              "      <td>0.514078</td>\n",
              "      <td>294.742242</td>\n",
              "      <td>8.223633</td>\n",
              "      <td>16.495244</td>\n",
              "      <td>11.507308</td>\n",
              "      <td>3.471646</td>\n",
              "      <td>7.872767</td>\n",
              "      <td>5.206912</td>\n",
              "    </tr>\n",
              "    <tr>\n",
              "      <th>min</th>\n",
              "      <td>-12.519471</td>\n",
              "      <td>-4.389471</td>\n",
              "      <td>-7.628222</td>\n",
              "      <td>19.000000</td>\n",
              "      <td>53.000000</td>\n",
              "      <td>38.333332</td>\n",
              "      <td>976.100000</td>\n",
              "      <td>981.400000</td>\n",
              "      <td>978.450000</td>\n",
              "      <td>0.000000</td>\n",
              "      <td>0.000000</td>\n",
              "      <td>0.000000</td>\n",
              "      <td>0.000000</td>\n",
              "      <td>4.320000</td>\n",
              "      <td>2.715000</td>\n",
              "      <td>0.000000</td>\n",
              "      <td>2.881557</td>\n",
              "      <td>1.495064</td>\n",
              "    </tr>\n",
              "    <tr>\n",
              "      <th>25%</th>\n",
              "      <td>1.695529</td>\n",
              "      <td>8.200529</td>\n",
              "      <td>4.687821</td>\n",
              "      <td>44.000000</td>\n",
              "      <td>82.000000</td>\n",
              "      <td>63.510417</td>\n",
              "      <td>1010.300000</td>\n",
              "      <td>1015.900000</td>\n",
              "      <td>1013.231325</td>\n",
              "      <td>0.000000</td>\n",
              "      <td>0.000000</td>\n",
              "      <td>123.724200</td>\n",
              "      <td>2.160000</td>\n",
              "      <td>19.080000</td>\n",
              "      <td>9.757499</td>\n",
              "      <td>0.842431</td>\n",
              "      <td>9.304952</td>\n",
              "      <td>4.871309</td>\n",
              "    </tr>\n",
              "    <tr>\n",
              "      <th>50%</th>\n",
              "      <td>10.230529</td>\n",
              "      <td>17.400530</td>\n",
              "      <td>14.633654</td>\n",
              "      <td>54.000000</td>\n",
              "      <td>88.000000</td>\n",
              "      <td>72.000000</td>\n",
              "      <td>1014.600000</td>\n",
              "      <td>1019.500000</td>\n",
              "      <td>1016.956170</td>\n",
              "      <td>0.000000</td>\n",
              "      <td>0.000000</td>\n",
              "      <td>387.787200</td>\n",
              "      <td>4.320000</td>\n",
              "      <td>26.280000</td>\n",
              "      <td>14.145001</td>\n",
              "      <td>1.864800</td>\n",
              "      <td>12.988194</td>\n",
              "      <td>6.941605</td>\n",
              "    </tr>\n",
              "    <tr>\n",
              "      <th>75%</th>\n",
              "      <td>15.530529</td>\n",
              "      <td>25.190529</td>\n",
              "      <td>20.433550</td>\n",
              "      <td>64.000000</td>\n",
              "      <td>93.000000</td>\n",
              "      <td>78.750000</td>\n",
              "      <td>1019.300000</td>\n",
              "      <td>1024.400000</td>\n",
              "      <td>1021.761427</td>\n",
              "      <td>1.200000</td>\n",
              "      <td>0.000000</td>\n",
              "      <td>619.203330</td>\n",
              "      <td>8.910000</td>\n",
              "      <td>37.440000</td>\n",
              "      <td>21.678751</td>\n",
              "      <td>3.729600</td>\n",
              "      <td>18.398964</td>\n",
              "      <td>10.111403</td>\n",
              "    </tr>\n",
              "    <tr>\n",
              "      <th>max</th>\n",
              "      <td>25.820530</td>\n",
              "      <td>36.700527</td>\n",
              "      <td>30.425112</td>\n",
              "      <td>93.000000</td>\n",
              "      <td>100.000000</td>\n",
              "      <td>95.250000</td>\n",
              "      <td>1043.600000</td>\n",
              "      <td>1049.900000</td>\n",
              "      <td>1047.095800</td>\n",
              "      <td>37.399994</td>\n",
              "      <td>13.860001</td>\n",
              "      <td>962.283300</td>\n",
              "      <td>57.960000</td>\n",
              "      <td>133.200000</td>\n",
              "      <td>90.749990</td>\n",
              "      <td>26.673279</td>\n",
              "      <td>59.192370</td>\n",
              "      <td>36.360706</td>\n",
              "    </tr>\n",
              "  </tbody>\n",
              "</table>\n",
              "</div>\n",
              "      <button class=\"colab-df-convert\" onclick=\"convertToInteractive('df-03776c95-5d92-46e7-9987-cdb257d50426')\"\n",
              "              title=\"Convert this dataframe to an interactive table.\"\n",
              "              style=\"display:none;\">\n",
              "        \n",
              "  <svg xmlns=\"http://www.w3.org/2000/svg\" height=\"24px\"viewBox=\"0 0 24 24\"\n",
              "       width=\"24px\">\n",
              "    <path d=\"M0 0h24v24H0V0z\" fill=\"none\"/>\n",
              "    <path d=\"M18.56 5.44l.94 2.06.94-2.06 2.06-.94-2.06-.94-.94-2.06-.94 2.06-2.06.94zm-11 1L8.5 8.5l.94-2.06 2.06-.94-2.06-.94L8.5 2.5l-.94 2.06-2.06.94zm10 10l.94 2.06.94-2.06 2.06-.94-2.06-.94-.94-2.06-.94 2.06-2.06.94z\"/><path d=\"M17.41 7.96l-1.37-1.37c-.4-.4-.92-.59-1.43-.59-.52 0-1.04.2-1.43.59L10.3 9.45l-7.72 7.72c-.78.78-.78 2.05 0 2.83L4 21.41c.39.39.9.59 1.41.59.51 0 1.02-.2 1.41-.59l7.78-7.78 2.81-2.81c.8-.78.8-2.07 0-2.86zM5.41 20L4 18.59l7.72-7.72 1.47 1.35L5.41 20z\"/>\n",
              "  </svg>\n",
              "      </button>\n",
              "      \n",
              "  <style>\n",
              "    .colab-df-container {\n",
              "      display:flex;\n",
              "      flex-wrap:wrap;\n",
              "      gap: 12px;\n",
              "    }\n",
              "\n",
              "    .colab-df-convert {\n",
              "      background-color: #E8F0FE;\n",
              "      border: none;\n",
              "      border-radius: 50%;\n",
              "      cursor: pointer;\n",
              "      display: none;\n",
              "      fill: #1967D2;\n",
              "      height: 32px;\n",
              "      padding: 0 0 0 0;\n",
              "      width: 32px;\n",
              "    }\n",
              "\n",
              "    .colab-df-convert:hover {\n",
              "      background-color: #E2EBFA;\n",
              "      box-shadow: 0px 1px 2px rgba(60, 64, 67, 0.3), 0px 1px 3px 1px rgba(60, 64, 67, 0.15);\n",
              "      fill: #174EA6;\n",
              "    }\n",
              "\n",
              "    [theme=dark] .colab-df-convert {\n",
              "      background-color: #3B4455;\n",
              "      fill: #D2E3FC;\n",
              "    }\n",
              "\n",
              "    [theme=dark] .colab-df-convert:hover {\n",
              "      background-color: #434B5C;\n",
              "      box-shadow: 0px 1px 3px 1px rgba(0, 0, 0, 0.15);\n",
              "      filter: drop-shadow(0px 1px 2px rgba(0, 0, 0, 0.3));\n",
              "      fill: #FFFFFF;\n",
              "    }\n",
              "  </style>\n",
              "\n",
              "      <script>\n",
              "        const buttonEl =\n",
              "          document.querySelector('#df-03776c95-5d92-46e7-9987-cdb257d50426 button.colab-df-convert');\n",
              "        buttonEl.style.display =\n",
              "          google.colab.kernel.accessAllowed ? 'block' : 'none';\n",
              "\n",
              "        async function convertToInteractive(key) {\n",
              "          const element = document.querySelector('#df-03776c95-5d92-46e7-9987-cdb257d50426');\n",
              "          const dataTable =\n",
              "            await google.colab.kernel.invokeFunction('convertToInteractive',\n",
              "                                                     [key], {});\n",
              "          if (!dataTable) return;\n",
              "\n",
              "          const docLinkHtml = 'Like what you see? Visit the ' +\n",
              "            '<a target=\"_blank\" href=https://colab.research.google.com/notebooks/data_table.ipynb>data table notebook</a>'\n",
              "            + ' to learn more about interactive tables.';\n",
              "          element.innerHTML = '';\n",
              "          dataTable['output_type'] = 'display_data';\n",
              "          await google.colab.output.renderOutput(dataTable, element);\n",
              "          const docLink = document.createElement('div');\n",
              "          docLink.innerHTML = docLinkHtml;\n",
              "          element.appendChild(docLink);\n",
              "        }\n",
              "      </script>\n",
              "    </div>\n",
              "  </div>\n",
              "  "
            ]
          },
          "metadata": {},
          "execution_count": 6
        }
      ]
    },
    {
      "cell_type": "code",
      "metadata": {
        "id": "bgSBDTYccgIl",
        "outputId": "2a645d21-cd74-4a02-a0e8-0c5e2165d34c",
        "colab": {
          "base_uri": "https://localhost:8080/"
        }
      },
      "source": [
        "df.shape"
      ],
      "execution_count": 7,
      "outputs": [
        {
          "output_type": "execute_result",
          "data": {
            "text/plain": [
              "(1762, 18)"
            ]
          },
          "metadata": {},
          "execution_count": 7
        }
      ]
    },
    {
      "cell_type": "markdown",
      "metadata": {
        "id": "C6-B_r3mcgIo"
      },
      "source": [
        "#### **Check if there is any null data**"
      ]
    },
    {
      "cell_type": "code",
      "metadata": {
        "id": "WHQOVVsrcgIp",
        "outputId": "e10ff5ea-097d-4b7e-fcbf-dae85e80754d",
        "colab": {
          "base_uri": "https://localhost:8080/"
        }
      },
      "source": [
        "df.isnull().sum()"
      ],
      "execution_count": 8,
      "outputs": [
        {
          "output_type": "execute_result",
          "data": {
            "text/plain": [
              "Temperature (Min) ºC.            0\n",
              "Temperature (Max) ºC.            0\n",
              "Temperature (Mean) ºC.           0\n",
              "Relative Humidity (Min) %        0\n",
              "Relative Humidity (Max) %        0\n",
              "Relative Humidity (Mean) %       0\n",
              "Sea Level Pressure (Min) hPa     0\n",
              "Sea Level Pressure (Max) hPa     0\n",
              "Sea Level Pressure (Mean) hPa    0\n",
              "Precipitation Total mm           0\n",
              "Snowfall Amount cm               0\n",
              "Sunshine Duration min            0\n",
              "Wind Gust (Min) Km/h             0\n",
              "Wind Gust (Max) Km/h             0\n",
              "Wind Gust (Mean) Km/h            0\n",
              "Wind Speed (Min) Km/h            0\n",
              "Wind Speed (Max) Km/h            0\n",
              "Wind Speed (Mean) Km/h           0\n",
              "dtype: int64"
            ]
          },
          "metadata": {},
          "execution_count": 8
        }
      ]
    },
    {
      "cell_type": "markdown",
      "metadata": {
        "id": "rVk5RKsncgIs"
      },
      "source": [
        "#### **Histograms of variables**\n"
      ]
    },
    {
      "cell_type": "code",
      "metadata": {
        "id": "E4MrvLP7cgIt",
        "outputId": "387d9761-dc11-4889-d609-f77e919477b2",
        "colab": {
          "base_uri": "https://localhost:8080/",
          "height": 1000
        }
      },
      "source": [
        "def plot_histograms(df, variables, n_rows, n_cols):\n",
        "    fig=plt.figure(figsize =(14,14))\n",
        "    for i, var_name in enumerate(variables):\n",
        "        ax=fig.add_subplot(n_rows,n_cols,i+1)\n",
        "        df[var_name].hist(bins=10,ax=ax)\n",
        "        ax.set_title(var_name+\" Distribution\")\n",
        "        plt.xlabel(var_name)\n",
        "        plt.ylabel(\"Frequency\")\n",
        "    fig.tight_layout()  \n",
        "    plt.show()\n",
        "\n",
        "plot_histograms(df, df.columns, 6, 3)"
      ],
      "execution_count": 9,
      "outputs": [
        {
          "output_type": "display_data",
          "data": {
            "text/plain": [
              "<Figure size 1008x1008 with 18 Axes>"
            ],
            "image/png": "[encoded data removed]"
          },
          "metadata": {
            "needs_background": "light"
          }
        }
      ]
    },
    {
      "cell_type": "markdown",
      "source": [
        "#### **Comments**: \n",
        "- Regarding **temperature**, histograms show a **bimodal distribution** due to **seasonality**. \n",
        "- On **most** days, **there wasn't snowfall** and **low or even no precipitation**.  \n",
        "- **Relative humidity** and **seal level pressure** have an **approximate simetric distribution**. \n",
        "-  In what concerns to **almost all wind** statistics (min, mean and max) they are **skewed to the right**.<br><br>"
      ],
      "metadata": {
        "id": "NtWhMbZLCW-0"
      }
    },
    {
      "cell_type": "markdown",
      "source": [
        "#### **Function to plot seaborn heatmap of correlation between all features**"
      ],
      "metadata": {
        "id": "tlgeke4KjHoH"
      }
    },
    {
      "cell_type": "code",
      "metadata": {
        "id": "R7wAlOAFcgIv"
      },
      "source": [
        "def features_corr(df, figsize = (16, 12), title = False):\n",
        "    f, ax = plt.subplots(figsize=figsize)\n",
        "\n",
        "    corr = df.corr()\n",
        "\n",
        "    mask = np.zeros_like(corr, dtype=bool)\n",
        "    mask[np.triu_indices_from(mask)] = True\n",
        "    np.fill_diagonal(mask, False)\n",
        "\n",
        "    cmap = sns.diverging_palette(220, 10, as_cmap=True)\n",
        "\n",
        "    sns.heatmap(corr, mask=mask, cmap=cmap,vmax=1, center=0,\n",
        "                     square=True, linewidths=.5, cbar_kws={\"shrink\": .5},\n",
        "                annot=True);\n",
        "    if title:\n",
        "        ax.set_title(title);"
      ],
      "execution_count": 10,
      "outputs": []
    },
    {
      "cell_type": "code",
      "metadata": {
        "id": "4YPFd4JRcgIy",
        "outputId": "cc39e6fc-b7bc-428f-e8be-cf570777fc5d",
        "colab": {
          "base_uri": "https://localhost:8080/",
          "height": 843
        }
      },
      "source": [
        "features_corr(df)"
      ],
      "execution_count": 11,
      "outputs": [
        {
          "output_type": "display_data",
          "data": {
            "text/plain": [
              "<Figure size 1152x864 with 2 Axes>"
            ],
            "image/png": "[encoded data removed]"
          },
          "metadata": {
            "needs_background": "light"
          }
        }
      ]
    },
    {
      "cell_type": "markdown",
      "metadata": {
        "id": "Qw5mSXRzcgI0"
      },
      "source": [
        "#### **Comments:**\n",
        "- **Variables** that **represent** the **same factor** in **determining** the **weather** - like **`Temperature`** - with values for `Min`, `Mean` and `Max`, have a **high positive correlation**, which **indicates** that we **should not  use all** of the **available variables** to **avoid multicollinearity**, therefore, **only the mean** will be **kept** in these cases. \n",
        "- In **addition**, because **wind speed** and **wind gust** are **highly correlated**, **only mean wind speed will be kept**; mean wind speed was chosen over mean wind gust **because all correlations of mean wind speed with other wind variables are greater than 0.8**.<br><br>"
      ]
    },
    {
      "cell_type": "markdown",
      "source": [
        "#### **Feature selection**:\n"
      ],
      "metadata": {
        "id": "OQiyf58v23By"
      }
    },
    {
      "cell_type": "code",
      "metadata": {
        "id": "dFyEzQnscgI7",
        "outputId": "a3689197-0950-4ec0-ab91-6b04e4fc3329",
        "colab": {
          "base_uri": "https://localhost:8080/",
          "height": 206
        }
      },
      "source": [
        "reduced_columns = [\"Temperature (Mean) ºC.\", \"Relative Humidity (Mean) %\", \"Sea Level Pressure (Mean) hPa\", \"Precipitation Total mm\", \"Snowfall Amount cm\", \"Sunshine Duration min\", \"Wind Speed (Mean) Km/h\" ]\n",
        "df_reduced = df[reduced_columns]\n",
        "\n",
        "df_reduced.head()"
      ],
      "execution_count": 12,
      "outputs": [
        {
          "output_type": "execute_result",
          "data": {
            "text/plain": [
              "   Temperature (Mean) ºC.  Relative Humidity (Mean) %  \\\n",
              "0               14.988861                   76.458336   \n",
              "1               14.267612                   83.583336   \n",
              "2               17.309278                   77.625000   \n",
              "3               19.881780                   66.583336   \n",
              "4               21.623444                   69.500000   \n",
              "\n",
              "   Sea Level Pressure (Mean) hPa  Precipitation Total mm  Snowfall Amount cm  \\\n",
              "0                     1014.99170                     1.9                 0.0   \n",
              "1                     1016.38745                     0.1                 0.0   \n",
              "2                     1017.26250                     0.0                 0.0   \n",
              "3                     1018.18353                     0.0                 0.0   \n",
              "4                     1014.59160                     1.1                 0.0   \n",
              "\n",
              "   Sunshine Duration min  Wind Speed (Mean) Km/h  \n",
              "0              287.23404                8.616541  \n",
              "1              126.26506                6.372418  \n",
              "2              881.24710                4.690738  \n",
              "3              951.56665                3.311275  \n",
              "4              440.98970                6.217993  "
            ],
            "text/html": [
              "\n",
              "  <div id=\"df-5af43e1a-95cf-4443-9036-99e7bf7cc124\">\n",
              "    <div class=\"colab-df-container\">\n",
              "      <div>\n",
              "<style scoped>\n",
              "    .dataframe tbody tr th:only-of-type {\n",
              "        vertical-align: middle;\n",
              "    }\n",
              "\n",
              "    .dataframe tbody tr th {\n",
              "        vertical-align: top;\n",
              "    }\n",
              "\n",
              "    .dataframe thead th {\n",
              "        text-align: right;\n",
              "    }\n",
              "</style>\n",
              "<table border=\"1\" class=\"dataframe\">\n",
              "  <thead>\n",
              "    <tr style=\"text-align: right;\">\n",
              "      <th></th>\n",
              "      <th>Temperature (Mean) ºC.</th>\n",
              "      <th>Relative Humidity (Mean) %</th>\n",
              "      <th>Sea Level Pressure (Mean) hPa</th>\n",
              "      <th>Precipitation Total mm</th>\n",
              "      <th>Snowfall Amount cm</th>\n",
              "      <th>Sunshine Duration min</th>\n",
              "      <th>Wind Speed (Mean) Km/h</th>\n",
              "    </tr>\n",
              "  </thead>\n",
              "  <tbody>\n",
              "    <tr>\n",
              "      <th>0</th>\n",
              "      <td>14.988861</td>\n",
              "      <td>76.458336</td>\n",
              "      <td>1014.99170</td>\n",
              "      <td>1.9</td>\n",
              "      <td>0.0</td>\n",
              "      <td>287.23404</td>\n",
              "      <td>8.616541</td>\n",
              "    </tr>\n",
              "    <tr>\n",
              "      <th>1</th>\n",
              "      <td>14.267612</td>\n",
              "      <td>83.583336</td>\n",
              "      <td>1016.38745</td>\n",
              "      <td>0.1</td>\n",
              "      <td>0.0</td>\n",
              "      <td>126.26506</td>\n",
              "      <td>6.372418</td>\n",
              "    </tr>\n",
              "    <tr>\n",
              "      <th>2</th>\n",
              "      <td>17.309278</td>\n",
              "      <td>77.625000</td>\n",
              "      <td>1017.26250</td>\n",
              "      <td>0.0</td>\n",
              "      <td>0.0</td>\n",
              "      <td>881.24710</td>\n",
              "      <td>4.690738</td>\n",
              "    </tr>\n",
              "    <tr>\n",
              "      <th>3</th>\n",
              "      <td>19.881780</td>\n",
              "      <td>66.583336</td>\n",
              "      <td>1018.18353</td>\n",
              "      <td>0.0</td>\n",
              "      <td>0.0</td>\n",
              "      <td>951.56665</td>\n",
              "      <td>3.311275</td>\n",
              "    </tr>\n",
              "    <tr>\n",
              "      <th>4</th>\n",
              "      <td>21.623444</td>\n",
              "      <td>69.500000</td>\n",
              "      <td>1014.59160</td>\n",
              "      <td>1.1</td>\n",
              "      <td>0.0</td>\n",
              "      <td>440.98970</td>\n",
              "      <td>6.217993</td>\n",
              "    </tr>\n",
              "  </tbody>\n",
              "</table>\n",
              "</div>\n",
              "      <button class=\"colab-df-convert\" onclick=\"convertToInteractive('df-5af43e1a-95cf-4443-9036-99e7bf7cc124')\"\n",
              "              title=\"Convert this dataframe to an interactive table.\"\n",
              "              style=\"display:none;\">\n",
              "        \n",
              "  <svg xmlns=\"http://www.w3.org/2000/svg\" height=\"24px\"viewBox=\"0 0 24 24\"\n",
              "       width=\"24px\">\n",
              "    <path d=\"M0 0h24v24H0V0z\" fill=\"none\"/>\n",
              "    <path d=\"M18.56 5.44l.94 2.06.94-2.06 2.06-.94-2.06-.94-.94-2.06-.94 2.06-2.06.94zm-11 1L8.5 8.5l.94-2.06 2.06-.94-2.06-.94L8.5 2.5l-.94 2.06-2.06.94zm10 10l.94 2.06.94-2.06 2.06-.94-2.06-.94-.94-2.06-.94 2.06-2.06.94z\"/><path d=\"M17.41 7.96l-1.37-1.37c-.4-.4-.92-.59-1.43-.59-.52 0-1.04.2-1.43.59L10.3 9.45l-7.72 7.72c-.78.78-.78 2.05 0 2.83L4 21.41c.39.39.9.59 1.41.59.51 0 1.02-.2 1.41-.59l7.78-7.78 2.81-2.81c.8-.78.8-2.07 0-2.86zM5.41 20L4 18.59l7.72-7.72 1.47 1.35L5.41 20z\"/>\n",
              "  </svg>\n",
              "      </button>\n",
              "      \n",
              "  <style>\n",
              "    .colab-df-container {\n",
              "      display:flex;\n",
              "      flex-wrap:wrap;\n",
              "      gap: 12px;\n",
              "    }\n",
              "\n",
              "    .colab-df-convert {\n",
              "      background-color: #E8F0FE;\n",
              "      border: none;\n",
              "      border-radius: 50%;\n",
              "      cursor: pointer;\n",
              "      display: none;\n",
              "      fill: #1967D2;\n",
              "      height: 32px;\n",
              "      padding: 0 0 0 0;\n",
              "      width: 32px;\n",
              "    }\n",
              "\n",
              "    .colab-df-convert:hover {\n",
              "      background-color: #E2EBFA;\n",
              "      box-shadow: 0px 1px 2px rgba(60, 64, 67, 0.3), 0px 1px 3px 1px rgba(60, 64, 67, 0.15);\n",
              "      fill: #174EA6;\n",
              "    }\n",
              "\n",
              "    [theme=dark] .colab-df-convert {\n",
              "      background-color: #3B4455;\n",
              "      fill: #D2E3FC;\n",
              "    }\n",
              "\n",
              "    [theme=dark] .colab-df-convert:hover {\n",
              "      background-color: #434B5C;\n",
              "      box-shadow: 0px 1px 3px 1px rgba(0, 0, 0, 0.15);\n",
              "      filter: drop-shadow(0px 1px 2px rgba(0, 0, 0, 0.3));\n",
              "      fill: #FFFFFF;\n",
              "    }\n",
              "  </style>\n",
              "\n",
              "      <script>\n",
              "        const buttonEl =\n",
              "          document.querySelector('#df-5af43e1a-95cf-4443-9036-99e7bf7cc124 button.colab-df-convert');\n",
              "        buttonEl.style.display =\n",
              "          google.colab.kernel.accessAllowed ? 'block' : 'none';\n",
              "\n",
              "        async function convertToInteractive(key) {\n",
              "          const element = document.querySelector('#df-5af43e1a-95cf-4443-9036-99e7bf7cc124');\n",
              "          const dataTable =\n",
              "            await google.colab.kernel.invokeFunction('convertToInteractive',\n",
              "                                                     [key], {});\n",
              "          if (!dataTable) return;\n",
              "\n",
              "          const docLinkHtml = 'Like what you see? Visit the ' +\n",
              "            '<a target=\"_blank\" href=https://colab.research.google.com/notebooks/data_table.ipynb>data table notebook</a>'\n",
              "            + ' to learn more about interactive tables.';\n",
              "          element.innerHTML = '';\n",
              "          dataTable['output_type'] = 'display_data';\n",
              "          await google.colab.output.renderOutput(dataTable, element);\n",
              "          const docLink = document.createElement('div');\n",
              "          docLink.innerHTML = docLinkHtml;\n",
              "          element.appendChild(docLink);\n",
              "        }\n",
              "      </script>\n",
              "    </div>\n",
              "  </div>\n",
              "  "
            ]
          },
          "metadata": {},
          "execution_count": 12
        }
      ]
    },
    {
      "cell_type": "markdown",
      "metadata": {
        "id": "Zhw00UdtcgI9"
      },
      "source": [
        "#### **Function to Standardize, Remove Outliers and Normalise to `[0, 1]`**"
      ]
    },
    {
      "cell_type": "code",
      "metadata": {
        "id": "n65GGBB7cgI-"
      },
      "source": [
        "def standardize_remove_outliers_and_normalize_data(input_dataframe):\n",
        "    input_dataframe = input_dataframe.copy()\n",
        "    columns = input_dataframe.columns    \n",
        "    \n",
        "    scaler = StandardScaler()\n",
        "    output_dataframe = pd.DataFrame(scaler.fit_transform(input_dataframe))\n",
        "    output_dataframe.columns = columns\n",
        "    \n",
        "    inicial_count = output_dataframe.count()[0]\n",
        "    outliers = 0\n",
        "    \n",
        "    for column in columns:\n",
        "        outliers += output_dataframe[(output_dataframe[column] < -3) | (3 < output_dataframe[column])][column].count()\n",
        "        output_dataframe = output_dataframe[(-3 <= output_dataframe[column]) & (output_dataframe[column] <= 3)]\n",
        "        min_ = output_dataframe[column].min()\n",
        "        max_ = output_dataframe[column].max()\n",
        "        output_dataframe[column] = (output_dataframe[column] - min_)/(max_ - min_) # ISTO É O DATASET \"NORMALIZED\"\n",
        "        \n",
        "    final_count = output_dataframe.count()[0]\n",
        "    print(\"Found {} outliers observations, that corresponds to {:.2f}% of the inicial dataframe.\"\\\n",
        "          .format(outliers, 100 * outliers/inicial_count))\n",
        "    print(\"The new dataframe has {} observations\".format(final_count))\n",
        "        \n",
        "    return output_dataframe    "
      ],
      "execution_count": 13,
      "outputs": []
    },
    {
      "cell_type": "markdown",
      "metadata": {
        "id": "MRFB8MqQcgJE"
      },
      "source": [
        "### **Apply the function to our dataframe with the selected columns only** "
      ]
    },
    {
      "cell_type": "code",
      "metadata": {
        "id": "ZBmZxQKJcgJF",
        "outputId": "7f4d2769-f281-4b0f-d1b4-c8cefcb33fe5",
        "colab": {
          "base_uri": "https://localhost:8080/",
          "height": 379
        }
      },
      "source": [
        "df_processed_reduced = standardize_remove_outliers_and_normalize_data(df_reduced)\n",
        "df_processed_reduced.describe()"
      ],
      "execution_count": 14,
      "outputs": [
        {
          "output_type": "stream",
          "name": "stdout",
          "text": [
            "Found 112 outliers observations, that corresponds to 6.36% of the inicial dataframe.\n",
            "The new dataframe has 1650 observations\n"
          ]
        },
        {
          "output_type": "execute_result",
          "data": {
            "text/plain": [
              "       Temperature (Mean) ºC.  Relative Humidity (Mean) %  \\\n",
              "count             1650.000000                 1650.000000   \n",
              "mean                 0.543202                    0.542367   \n",
              "std                  0.231301                    0.182284   \n",
              "min                  0.000000                    0.000000   \n",
              "25%                  0.328511                    0.406467   \n",
              "50%                  0.597977                    0.556197   \n",
              "75%                  0.745902                    0.682063   \n",
              "max                  1.000000                    0.955350   \n",
              "\n",
              "       Sea Level Pressure (Mean) hPa  Precipitation Total mm  \\\n",
              "count                    1650.000000             1650.000000   \n",
              "mean                        0.501906                0.084742   \n",
              "std                         0.157043                0.177468   \n",
              "min                         0.000003                0.000000   \n",
              "25%                         0.411265                0.000000   \n",
              "50%                         0.482747                0.000000   \n",
              "75%                         0.583836                0.075630   \n",
              "max                         1.000000                1.000000   \n",
              "\n",
              "       Snowfall Amount cm  Sunshine Duration min  Wind Speed (Mean) Km/h  \n",
              "count         1650.000000            1650.000000             1650.000000  \n",
              "mean             0.015120               0.434405                0.282557  \n",
              "std              0.091701               0.303828                0.187758  \n",
              "min              0.000000               0.000000                0.000000  \n",
              "25%              0.000000               0.164029                0.147485  \n",
              "50%              0.000000               0.433816                0.235400  \n",
              "75%              0.000000               0.660409                0.361069  \n",
              "max              1.000000               1.000000                1.000000  "
            ],
            "text/html": [
              "\n",
              "  <div id=\"df-ab1085b1-a445-4c92-91f4-136181e55fb4\">\n",
              "    <div class=\"colab-df-container\">\n",
              "      <div>\n",
              "<style scoped>\n",
              "    .dataframe tbody tr th:only-of-type {\n",
              "        vertical-align: middle;\n",
              "    }\n",
              "\n",
              "    .dataframe tbody tr th {\n",
              "        vertical-align: top;\n",
              "    }\n",
              "\n",
              "    .dataframe thead th {\n",
              "        text-align: right;\n",
              "    }\n",
              "</style>\n",
              "<table border=\"1\" class=\"dataframe\">\n",
              "  <thead>\n",
              "    <tr style=\"text-align: right;\">\n",
              "      <th></th>\n",
              "      <th>Temperature (Mean) ºC.</th>\n",
              "      <th>Relative Humidity (Mean) %</th>\n",
              "      <th>Sea Level Pressure (Mean) hPa</th>\n",
              "      <th>Precipitation Total mm</th>\n",
              "      <th>Snowfall Amount cm</th>\n",
              "      <th>Sunshine Duration min</th>\n",
              "      <th>Wind Speed (Mean) Km/h</th>\n",
              "    </tr>\n",
              "  </thead>\n",
              "  <tbody>\n",
              "    <tr>\n",
              "      <th>count</th>\n",
              "      <td>1650.000000</td>\n",
              "      <td>1650.000000</td>\n",
              "      <td>1650.000000</td>\n",
              "      <td>1650.000000</td>\n",
              "      <td>1650.000000</td>\n",
              "      <td>1650.000000</td>\n",
              "      <td>1650.000000</td>\n",
              "    </tr>\n",
              "    <tr>\n",
              "      <th>mean</th>\n",
              "      <td>0.543202</td>\n",
              "      <td>0.542367</td>\n",
              "      <td>0.501906</td>\n",
              "      <td>0.084742</td>\n",
              "      <td>0.015120</td>\n",
              "      <td>0.434405</td>\n",
              "      <td>0.282557</td>\n",
              "    </tr>\n",
              "    <tr>\n",
              "      <th>std</th>\n",
              "      <td>0.231301</td>\n",
              "      <td>0.182284</td>\n",
              "      <td>0.157043</td>\n",
              "      <td>0.177468</td>\n",
              "      <td>0.091701</td>\n",
              "      <td>0.303828</td>\n",
              "      <td>0.187758</td>\n",
              "    </tr>\n",
              "    <tr>\n",
              "      <th>min</th>\n",
              "      <td>0.000000</td>\n",
              "      <td>0.000000</td>\n",
              "      <td>0.000003</td>\n",
              "      <td>0.000000</td>\n",
              "      <td>0.000000</td>\n",
              "      <td>0.000000</td>\n",
              "      <td>0.000000</td>\n",
              "    </tr>\n",
              "    <tr>\n",
              "      <th>25%</th>\n",
              "      <td>0.328511</td>\n",
              "      <td>0.406467</td>\n",
              "      <td>0.411265</td>\n",
              "      <td>0.000000</td>\n",
              "      <td>0.000000</td>\n",
              "      <td>0.164029</td>\n",
              "      <td>0.147485</td>\n",
              "    </tr>\n",
              "    <tr>\n",
              "      <th>50%</th>\n",
              "      <td>0.597977</td>\n",
              "      <td>0.556197</td>\n",
              "      <td>0.482747</td>\n",
              "      <td>0.000000</td>\n",
              "      <td>0.000000</td>\n",
              "      <td>0.433816</td>\n",
              "      <td>0.235400</td>\n",
              "    </tr>\n",
              "    <tr>\n",
              "      <th>75%</th>\n",
              "      <td>0.745902</td>\n",
              "      <td>0.682063</td>\n",
              "      <td>0.583836</td>\n",
              "      <td>0.075630</td>\n",
              "      <td>0.000000</td>\n",
              "      <td>0.660409</td>\n",
              "      <td>0.361069</td>\n",
              "    </tr>\n",
              "    <tr>\n",
              "      <th>max</th>\n",
              "      <td>1.000000</td>\n",
              "      <td>0.955350</td>\n",
              "      <td>1.000000</td>\n",
              "      <td>1.000000</td>\n",
              "      <td>1.000000</td>\n",
              "      <td>1.000000</td>\n",
              "      <td>1.000000</td>\n",
              "    </tr>\n",
              "  </tbody>\n",
              "</table>\n",
              "</div>\n",
              "      <button class=\"colab-df-convert\" onclick=\"convertToInteractive('df-ab1085b1-a445-4c92-91f4-136181e55fb4')\"\n",
              "              title=\"Convert this dataframe to an interactive table.\"\n",
              "              style=\"display:none;\">\n",
              "        \n",
              "  <svg xmlns=\"http://www.w3.org/2000/svg\" height=\"24px\"viewBox=\"0 0 24 24\"\n",
              "       width=\"24px\">\n",
              "    <path d=\"M0 0h24v24H0V0z\" fill=\"none\"/>\n",
              "    <path d=\"M18.56 5.44l.94 2.06.94-2.06 2.06-.94-2.06-.94-.94-2.06-.94 2.06-2.06.94zm-11 1L8.5 8.5l.94-2.06 2.06-.94-2.06-.94L8.5 2.5l-.94 2.06-2.06.94zm10 10l.94 2.06.94-2.06 2.06-.94-2.06-.94-.94-2.06-.94 2.06-2.06.94z\"/><path d=\"M17.41 7.96l-1.37-1.37c-.4-.4-.92-.59-1.43-.59-.52 0-1.04.2-1.43.59L10.3 9.45l-7.72 7.72c-.78.78-.78 2.05 0 2.83L4 21.41c.39.39.9.59 1.41.59.51 0 1.02-.2 1.41-.59l7.78-7.78 2.81-2.81c.8-.78.8-2.07 0-2.86zM5.41 20L4 18.59l7.72-7.72 1.47 1.35L5.41 20z\"/>\n",
              "  </svg>\n",
              "      </button>\n",
              "      \n",
              "  <style>\n",
              "    .colab-df-container {\n",
              "      display:flex;\n",
              "      flex-wrap:wrap;\n",
              "      gap: 12px;\n",
              "    }\n",
              "\n",
              "    .colab-df-convert {\n",
              "      background-color: #E8F0FE;\n",
              "      border: none;\n",
              "      border-radius: 50%;\n",
              "      cursor: pointer;\n",
              "      display: none;\n",
              "      fill: #1967D2;\n",
              "      height: 32px;\n",
              "      padding: 0 0 0 0;\n",
              "      width: 32px;\n",
              "    }\n",
              "\n",
              "    .colab-df-convert:hover {\n",
              "      background-color: #E2EBFA;\n",
              "      box-shadow: 0px 1px 2px rgba(60, 64, 67, 0.3), 0px 1px 3px 1px rgba(60, 64, 67, 0.15);\n",
              "      fill: #174EA6;\n",
              "    }\n",
              "\n",
              "    [theme=dark] .colab-df-convert {\n",
              "      background-color: #3B4455;\n",
              "      fill: #D2E3FC;\n",
              "    }\n",
              "\n",
              "    [theme=dark] .colab-df-convert:hover {\n",
              "      background-color: #434B5C;\n",
              "      box-shadow: 0px 1px 3px 1px rgba(0, 0, 0, 0.15);\n",
              "      filter: drop-shadow(0px 1px 2px rgba(0, 0, 0, 0.3));\n",
              "      fill: #FFFFFF;\n",
              "    }\n",
              "  </style>\n",
              "\n",
              "      <script>\n",
              "        const buttonEl =\n",
              "          document.querySelector('#df-ab1085b1-a445-4c92-91f4-136181e55fb4 button.colab-df-convert');\n",
              "        buttonEl.style.display =\n",
              "          google.colab.kernel.accessAllowed ? 'block' : 'none';\n",
              "\n",
              "        async function convertToInteractive(key) {\n",
              "          const element = document.querySelector('#df-ab1085b1-a445-4c92-91f4-136181e55fb4');\n",
              "          const dataTable =\n",
              "            await google.colab.kernel.invokeFunction('convertToInteractive',\n",
              "                                                     [key], {});\n",
              "          if (!dataTable) return;\n",
              "\n",
              "          const docLinkHtml = 'Like what you see? Visit the ' +\n",
              "            '<a target=\"_blank\" href=https://colab.research.google.com/notebooks/data_table.ipynb>data table notebook</a>'\n",
              "            + ' to learn more about interactive tables.';\n",
              "          element.innerHTML = '';\n",
              "          dataTable['output_type'] = 'display_data';\n",
              "          await google.colab.output.renderOutput(dataTable, element);\n",
              "          const docLink = document.createElement('div');\n",
              "          docLink.innerHTML = docLinkHtml;\n",
              "          element.appendChild(docLink);\n",
              "        }\n",
              "      </script>\n",
              "    </div>\n",
              "  </div>\n",
              "  "
            ]
          },
          "metadata": {},
          "execution_count": 14
        }
      ]
    },
    {
      "cell_type": "markdown",
      "metadata": {
        "id": "bqaJoEOVcgJI"
      },
      "source": [
        "### **Extraction** of **new**, **orthogonal (independent) features**, which are a **linear combination of the original ones** (which carry a clear physical meaning, such as temperature or precipitation)**: PCA**<br><br>\n"
      ]
    },
    {
      "cell_type": "markdown",
      "source": [
        "#### **Instantiate** the **PCA** model\n",
        " "
      ],
      "metadata": {
        "id": "ZcxFoSh3UNI8"
      }
    },
    {
      "cell_type": "code",
      "metadata": {
        "id": "E4MCFLeVcgJJ"
      },
      "source": [
        "number_of_components = 3\n",
        "\n",
        "pca = PCA(n_components=number_of_components)"
      ],
      "execution_count": 15,
      "outputs": []
    },
    {
      "cell_type": "markdown",
      "source": [
        "#### **Fit** the dataset"
      ],
      "metadata": {
        "id": "7wvJMCB4VJWM"
      }
    },
    {
      "cell_type": "code",
      "metadata": {
        "scrolled": true,
        "id": "IjhItP1HcgJM",
        "outputId": "3379c9aa-bbdc-4375-f240-26694a231076",
        "colab": {
          "base_uri": "https://localhost:8080/"
        }
      },
      "source": [
        "pca.fit(df_processed_reduced)"
      ],
      "execution_count": 16,
      "outputs": [
        {
          "output_type": "execute_result",
          "data": {
            "text/plain": [
              "PCA(n_components=3)"
            ]
          },
          "metadata": {},
          "execution_count": 16
        }
      ]
    },
    {
      "cell_type": "markdown",
      "source": [
        "#### **PCA features contribution to cumulative explained variance**"
      ],
      "metadata": {
        "id": "uVTAbF2xVcVv"
      }
    },
    {
      "cell_type": "code",
      "metadata": {
        "id": "w1Z288rbcgJS",
        "outputId": "c4f0aaea-446c-4511-92d9-55a5f14252ff",
        "colab": {
          "base_uri": "https://localhost:8080/",
          "height": 494
        }
      },
      "source": [
        "df_processed_reduced_projected = pca.transform(df_processed_reduced)\n",
        "\n",
        "print('Contribution of each of the 3 principal components to the explained variance:', pca.explained_variance_ratio_)\n",
        "print('PCA features total contribution to explained variance:',sum(pca.explained_variance_ratio_))\n",
        "\n",
        "# Plot cumulative explained variance for all PCs\n",
        "cum_exp_var = []\n",
        "var_exp = 0\n",
        "for i in pca.explained_variance_ratio_:\n",
        "      var_exp += i\n",
        "      cum_exp_var.append(var_exp)\n",
        "\n",
        "fig, ax = plt.subplots(figsize=(9,7))\n",
        "ax.bar(range(1,pca.components_.shape[0]+1), cum_exp_var)\n",
        "ax.set_xlabel('Number of Principal Components')\n",
        "ax.set_ylabel('Cumulative Variance Explained')"
      ],
      "execution_count": 17,
      "outputs": [
        {
          "output_type": "stream",
          "name": "stdout",
          "text": [
            "Contribution of each of the 3 principal components to the explained variance: [0.51605154 0.17946354 0.1102755 ]\n",
            "PCA features total contribution to explained variance: 0.8057905801517459\n"
          ]
        },
        {
          "output_type": "execute_result",
          "data": {
            "text/plain": [
              "Text(0, 0.5, 'Cumulative Variance Explained')"
            ]
          },
          "metadata": {},
          "execution_count": 17
        },
        {
          "output_type": "display_data",
          "data": {
            "text/plain": [
              "<Figure size 648x504 with 1 Axes>"
            ],
            "image/png": "[encoded data removed]"
          },
          "metadata": {
            "needs_background": "light"
          }
        }
      ]
    },
    {
      "cell_type": "code",
      "metadata": {
        "id": "ALzWIviZcgJX"
      },
      "source": [
        "# Rename the dataframes\n",
        "adjusted_df = df_processed_reduced\n",
        "adjusted_projected = df_processed_reduced_projected"
      ],
      "execution_count": 18,
      "outputs": []
    },
    {
      "cell_type": "markdown",
      "source": [
        "## 2 - **Clustering**\n",
        "- - - "
      ],
      "metadata": {
        "id": "MFcwavCuld24"
      }
    },
    {
      "cell_type": "markdown",
      "source": [
        "### **Silhouette analysis for finding the optimal number of clusters:**\n",
        "\n",
        "- The silhouette coefficient is a **measure** of how **similar** data points are **within-cluster** (cohesion) **compared to other clusters** (separation). \n",
        "- The **optimal number of clusters** '**n**' is **the one that maximizes** the **average silhouette over a range of possible values for 'n'**.<br><br>"
      ],
      "metadata": {
        "id": "7EPefvAJ_dN8"
      }
    },
    {
      "cell_type": "markdown",
      "source": [
        "#### **Silhouette analysis: `K-Means`**"
      ],
      "metadata": {
        "id": "xAPLneR_BMYV"
      }
    },
    {
      "cell_type": "code",
      "source": [
        "range_n_clusters = [2, 3, 4, 5, 6, 7, 8]\n",
        "silhouette_avg = []\n",
        "for num_clusters in range_n_clusters:\n",
        " \n",
        "    # initialize kmeans\n",
        "    kmeans = KMeans(n_clusters=num_clusters, random_state=42)\n",
        "    # Fit\n",
        "    kmeans= kmeans.fit(adjusted_projected)\n",
        "    # Predict\n",
        "    k_labels = kmeans.labels_\n",
        " \n",
        "    # silhouette score\n",
        "    silhouette_avg.append(silhouette_score(adjusted_projected, k_labels, metric='euclidean'))\n",
        "# plot\n",
        "fig=plt.figure(figsize =(8,8))\n",
        "plt.plot(range_n_clusters,silhouette_avg,'b')\n",
        "plt.xlabel('Number of Clusters') \n",
        "plt.ylabel('Silhouette score') \n",
        "plt.title('Silhouette Analysis for Optimal Number of Clusters')\n",
        "plt.show()"
      ],
      "metadata": {
        "colab": {
          "base_uri": "https://localhost:8080/",
          "height": 513
        },
        "id": "2DXd2xoy-v8Z",
        "outputId": "b9d85b24-176a-4ca2-a190-c1bfcdc8a842"
      },
      "execution_count": 19,
      "outputs": [
        {
          "output_type": "display_data",
          "data": {
            "text/plain": [
              "<Figure size 576x576 with 1 Axes>"
            ],
            "image/png": "[encoded data removed]"
          },
          "metadata": {
            "needs_background": "light"
          }
        }
      ]
    },
    {
      "cell_type": "markdown",
      "source": [
        "#### **Comment:** the **optimal number of clusters** is **2**<br><br>"
      ],
      "metadata": {
        "id": "sEefCKQdZVR7"
      }
    },
    {
      "cell_type": "markdown",
      "source": [
        "### **Silhouette analysis: `Gaussian Mixture`**"
      ],
      "metadata": {
        "id": "I6Oc3Csk_urf"
      }
    },
    {
      "cell_type": "code",
      "source": [
        "range_n_clusters = [2, 3, 4, 5, 6, 7, 8]\n",
        "silhouette_avg = []\n",
        "for num_clusters in range_n_clusters:\n",
        " \n",
        "    # initialize gaussian mixture with its parameters\n",
        "    model = GaussianMixture(n_components=num_clusters, max_iter=200, init_params='kmeans')\n",
        "    # fit the model and predict\n",
        "    labels = model.fit_predict(adjusted_projected)\n",
        "    \n",
        "    # silhouette score\n",
        "    silhouette_avg.append(silhouette_score(adjusted_projected, labels, metric='euclidean'))\n",
        "# plot\n",
        "fig=plt.figure(figsize =(8,8))\n",
        "plt.plot(range_n_clusters,silhouette_avg,'b')\n",
        "plt.xlabel('Number of Clusters') \n",
        "plt.ylabel('Silhouette score') \n",
        "plt.title('Silhouette Analysis for Optimal Number of Clusters')\n",
        "plt.show()"
      ],
      "metadata": {
        "colab": {
          "base_uri": "https://localhost:8080/",
          "height": 513
        },
        "id": "8rLpi0Rs_OJl",
        "outputId": "be8c608f-5f8c-4812-d18f-efdad4469ca9"
      },
      "execution_count": 20,
      "outputs": [
        {
          "output_type": "display_data",
          "data": {
            "text/plain": [
              "<Figure size 576x576 with 1 Axes>"
            ],
            "image/png": "[encoded data removed]"
          },
          "metadata": {
            "needs_background": "light"
          }
        }
      ]
    },
    {
      "cell_type": "markdown",
      "source": [
        "#### **Comment:** the **optimal number of clusters** is **2**<br><br>"
      ],
      "metadata": {
        "id": "rH7oq5zLaVSx"
      }
    },
    {
      "cell_type": "markdown",
      "metadata": {
        "id": "gI1YppoccgJt"
      },
      "source": [
        "### **Clustering**: **`Gaussian Mixture`**"
      ]
    },
    {
      "cell_type": "code",
      "metadata": {
        "id": "bA9e7M2BcgJt"
      },
      "source": [
        "clusters = 2"
      ],
      "execution_count": 21,
      "outputs": []
    },
    {
      "cell_type": "code",
      "metadata": {
        "id": "ZDguloCrcgJv",
        "outputId": "58191182-825c-45c0-be27-bf0bdf8982a7",
        "colab": {
          "base_uri": "https://localhost:8080/",
          "height": 286
        }
      },
      "source": [
        "gmm = GaussianMixture(n_components=clusters, random_state=0).fit(adjusted_projected)\n",
        "gm_labels = gmm.predict(adjusted_projected)\n",
        "plt.scatter(adjusted_projected[:, 0], adjusted_projected[:, 1], c=gm_labels, s=40, cmap='viridis')\n",
        "\n",
        "# plot the centers of each cluster\n",
        "centers = gmm.means_\n",
        "plt.scatter(centers[:, 0], centers[:, 1], c='red', s=200, alpha=0.5)"
      ],
      "execution_count": 22,
      "outputs": [
        {
          "output_type": "execute_result",
          "data": {
            "text/plain": [
              "<matplotlib.collections.PathCollection at 0x7f075e4823d0>"
            ]
          },
          "metadata": {},
          "execution_count": 22
        },
        {
          "output_type": "display_data",
          "data": {
            "text/plain": [
              "<Figure size 432x288 with 1 Axes>"
            ],
            "image/png": "[encoded data removed]"
          },
          "metadata": {
            "needs_background": "light"
          }
        }
      ]
    },
    {
      "cell_type": "markdown",
      "metadata": {
        "id": "1H4wYKYXcgJy"
      },
      "source": [
        "### **Clustering**: **`Kmeans`**"
      ]
    },
    {
      "cell_type": "code",
      "metadata": {
        "id": "DGGOkgMFcgJz"
      },
      "source": [
        "kmeans = KMeans(n_clusters=clusters, random_state=0).fit(adjusted_projected)"
      ],
      "execution_count": 23,
      "outputs": []
    },
    {
      "cell_type": "code",
      "metadata": {
        "id": "MIi44SSIcgJ0"
      },
      "source": [
        "k_labels = kmeans.labels_"
      ],
      "execution_count": 24,
      "outputs": []
    },
    {
      "cell_type": "code",
      "source": [
        "plt.scatter(adjusted_projected[:, 0], adjusted_projected[:, 1], c=k_labels, s=40, cmap='viridis')\n",
        "\n",
        "# plot the centers of each cluster\n",
        "centers = kmeans.cluster_centers_\n",
        "plt.scatter(centers[:, 0], centers[:, 1], c='red', s=200, alpha=0.5);"
      ],
      "metadata": {
        "colab": {
          "base_uri": "https://localhost:8080/",
          "height": 269
        },
        "id": "oBzwvWKADW9H",
        "outputId": "e7e94cef-268a-484c-a7ec-e048449e770a"
      },
      "execution_count": 25,
      "outputs": [
        {
          "output_type": "display_data",
          "data": {
            "text/plain": [
              "<Figure size 432x288 with 1 Axes>"
            ],
            "image/png": "[encoded data removed]"
          },
          "metadata": {
            "needs_background": "light"
          }
        }
      ]
    },
    {
      "cell_type": "markdown",
      "source": [
        "####  **Comment:** **generally speaking, there are some advantages of using Gaussian Mixture over K-Means**. However, **in this case**, we are going to **choose K-Means** because it seems that K-Means **delimits better the clusters** than the Gaussian Mixture, as **shown** in the above **scatter plots**<br><br>\n",
        "\n",
        "\n",
        " "
      ],
      "metadata": {
        "id": "V82QbIfUBkYs"
      }
    },
    {
      "cell_type": "code",
      "source": [
        "final_labels = k_labels\n",
        "adjusted_df[\"label\"] = final_labels\n",
        "\n",
        "adjusted_df.head()"
      ],
      "metadata": {
        "colab": {
          "base_uri": "https://localhost:8080/",
          "height": 250
        },
        "id": "Mc3orJRlNOpe",
        "outputId": "0f532d9c-1f61-44a3-e398-d240e820d025"
      },
      "execution_count": 26,
      "outputs": [
        {
          "output_type": "execute_result",
          "data": {
            "text/plain": [
              "   Temperature (Mean) ºC.  Relative Humidity (Mean) %  \\\n",
              "0                0.594352                    0.652810   \n",
              "1                0.575399                    0.784450   \n",
              "2                0.655330                    0.674365   \n",
              "3                0.722933                    0.470362   \n",
              "4                0.768702                    0.524249   \n",
              "\n",
              "   Sea Level Pressure (Mean) hPa  Precipitation Total mm  Snowfall Amount cm  \\\n",
              "0                       0.436635                0.159664                 0.0   \n",
              "1                       0.465320                0.008403                 0.0   \n",
              "2                       0.483303                0.000000                 0.0   \n",
              "3                       0.502232                0.000000                 0.0   \n",
              "4                       0.428413                0.092437                 0.0   \n",
              "\n",
              "   Sunshine Duration min  Wind Speed (Mean) Km/h  label  \n",
              "0               0.298492                0.317946      1  \n",
              "1               0.131214                0.217755      1  \n",
              "2               0.915788                0.142674      0  \n",
              "3               0.988863                0.081087      0  \n",
              "4               0.458274                0.210860      0  "
            ],
            "text/html": [
              "\n",
              "  <div id=\"df-d83f4327-078e-49c5-8ec3-e1709bb5ab08\">\n",
              "    <div class=\"colab-df-container\">\n",
              "      <div>\n",
              "<style scoped>\n",
              "    .dataframe tbody tr th:only-of-type {\n",
              "        vertical-align: middle;\n",
              "    }\n",
              "\n",
              "    .dataframe tbody tr th {\n",
              "        vertical-align: top;\n",
              "    }\n",
              "\n",
              "    .dataframe thead th {\n",
              "        text-align: right;\n",
              "    }\n",
              "</style>\n",
              "<table border=\"1\" class=\"dataframe\">\n",
              "  <thead>\n",
              "    <tr style=\"text-align: right;\">\n",
              "      <th></th>\n",
              "      <th>Temperature (Mean) ºC.</th>\n",
              "      <th>Relative Humidity (Mean) %</th>\n",
              "      <th>Sea Level Pressure (Mean) hPa</th>\n",
              "      <th>Precipitation Total mm</th>\n",
              "      <th>Snowfall Amount cm</th>\n",
              "      <th>Sunshine Duration min</th>\n",
              "      <th>Wind Speed (Mean) Km/h</th>\n",
              "      <th>label</th>\n",
              "    </tr>\n",
              "  </thead>\n",
              "  <tbody>\n",
              "    <tr>\n",
              "      <th>0</th>\n",
              "      <td>0.594352</td>\n",
              "      <td>0.652810</td>\n",
              "      <td>0.436635</td>\n",
              "      <td>0.159664</td>\n",
              "      <td>0.0</td>\n",
              "      <td>0.298492</td>\n",
              "      <td>0.317946</td>\n",
              "      <td>1</td>\n",
              "    </tr>\n",
              "    <tr>\n",
              "      <th>1</th>\n",
              "      <td>0.575399</td>\n",
              "      <td>0.784450</td>\n",
              "      <td>0.465320</td>\n",
              "      <td>0.008403</td>\n",
              "      <td>0.0</td>\n",
              "      <td>0.131214</td>\n",
              "      <td>0.217755</td>\n",
              "      <td>1</td>\n",
              "    </tr>\n",
              "    <tr>\n",
              "      <th>2</th>\n",
              "      <td>0.655330</td>\n",
              "      <td>0.674365</td>\n",
              "      <td>0.483303</td>\n",
              "      <td>0.000000</td>\n",
              "      <td>0.0</td>\n",
              "      <td>0.915788</td>\n",
              "      <td>0.142674</td>\n",
              "      <td>0</td>\n",
              "    </tr>\n",
              "    <tr>\n",
              "      <th>3</th>\n",
              "      <td>0.722933</td>\n",
              "      <td>0.470362</td>\n",
              "      <td>0.502232</td>\n",
              "      <td>0.000000</td>\n",
              "      <td>0.0</td>\n",
              "      <td>0.988863</td>\n",
              "      <td>0.081087</td>\n",
              "      <td>0</td>\n",
              "    </tr>\n",
              "    <tr>\n",
              "      <th>4</th>\n",
              "      <td>0.768702</td>\n",
              "      <td>0.524249</td>\n",
              "      <td>0.428413</td>\n",
              "      <td>0.092437</td>\n",
              "      <td>0.0</td>\n",
              "      <td>0.458274</td>\n",
              "      <td>0.210860</td>\n",
              "      <td>0</td>\n",
              "    </tr>\n",
              "  </tbody>\n",
              "</table>\n",
              "</div>\n",
              "      <button class=\"colab-df-convert\" onclick=\"convertToInteractive('df-d83f4327-078e-49c5-8ec3-e1709bb5ab08')\"\n",
              "              title=\"Convert this dataframe to an interactive table.\"\n",
              "              style=\"display:none;\">\n",
              "        \n",
              "  <svg xmlns=\"http://www.w3.org/2000/svg\" height=\"24px\"viewBox=\"0 0 24 24\"\n",
              "       width=\"24px\">\n",
              "    <path d=\"M0 0h24v24H0V0z\" fill=\"none\"/>\n",
              "    <path d=\"M18.56 5.44l.94 2.06.94-2.06 2.06-.94-2.06-.94-.94-2.06-.94 2.06-2.06.94zm-11 1L8.5 8.5l.94-2.06 2.06-.94-2.06-.94L8.5 2.5l-.94 2.06-2.06.94zm10 10l.94 2.06.94-2.06 2.06-.94-2.06-.94-.94-2.06-.94 2.06-2.06.94z\"/><path d=\"M17.41 7.96l-1.37-1.37c-.4-.4-.92-.59-1.43-.59-.52 0-1.04.2-1.43.59L10.3 9.45l-7.72 7.72c-.78.78-.78 2.05 0 2.83L4 21.41c.39.39.9.59 1.41.59.51 0 1.02-.2 1.41-.59l7.78-7.78 2.81-2.81c.8-.78.8-2.07 0-2.86zM5.41 20L4 18.59l7.72-7.72 1.47 1.35L5.41 20z\"/>\n",
              "  </svg>\n",
              "      </button>\n",
              "      \n",
              "  <style>\n",
              "    .colab-df-container {\n",
              "      display:flex;\n",
              "      flex-wrap:wrap;\n",
              "      gap: 12px;\n",
              "    }\n",
              "\n",
              "    .colab-df-convert {\n",
              "      background-color: #E8F0FE;\n",
              "      border: none;\n",
              "      border-radius: 50%;\n",
              "      cursor: pointer;\n",
              "      display: none;\n",
              "      fill: #1967D2;\n",
              "      height: 32px;\n",
              "      padding: 0 0 0 0;\n",
              "      width: 32px;\n",
              "    }\n",
              "\n",
              "    .colab-df-convert:hover {\n",
              "      background-color: #E2EBFA;\n",
              "      box-shadow: 0px 1px 2px rgba(60, 64, 67, 0.3), 0px 1px 3px 1px rgba(60, 64, 67, 0.15);\n",
              "      fill: #174EA6;\n",
              "    }\n",
              "\n",
              "    [theme=dark] .colab-df-convert {\n",
              "      background-color: #3B4455;\n",
              "      fill: #D2E3FC;\n",
              "    }\n",
              "\n",
              "    [theme=dark] .colab-df-convert:hover {\n",
              "      background-color: #434B5C;\n",
              "      box-shadow: 0px 1px 3px 1px rgba(0, 0, 0, 0.15);\n",
              "      filter: drop-shadow(0px 1px 2px rgba(0, 0, 0, 0.3));\n",
              "      fill: #FFFFFF;\n",
              "    }\n",
              "  </style>\n",
              "\n",
              "      <script>\n",
              "        const buttonEl =\n",
              "          document.querySelector('#df-d83f4327-078e-49c5-8ec3-e1709bb5ab08 button.colab-df-convert');\n",
              "        buttonEl.style.display =\n",
              "          google.colab.kernel.accessAllowed ? 'block' : 'none';\n",
              "\n",
              "        async function convertToInteractive(key) {\n",
              "          const element = document.querySelector('#df-d83f4327-078e-49c5-8ec3-e1709bb5ab08');\n",
              "          const dataTable =\n",
              "            await google.colab.kernel.invokeFunction('convertToInteractive',\n",
              "                                                     [key], {});\n",
              "          if (!dataTable) return;\n",
              "\n",
              "          const docLinkHtml = 'Like what you see? Visit the ' +\n",
              "            '<a target=\"_blank\" href=https://colab.research.google.com/notebooks/data_table.ipynb>data table notebook</a>'\n",
              "            + ' to learn more about interactive tables.';\n",
              "          element.innerHTML = '';\n",
              "          dataTable['output_type'] = 'display_data';\n",
              "          await google.colab.output.renderOutput(dataTable, element);\n",
              "          const docLink = document.createElement('div');\n",
              "          docLink.innerHTML = docLinkHtml;\n",
              "          element.appendChild(docLink);\n",
              "        }\n",
              "      </script>\n",
              "    </div>\n",
              "  </div>\n",
              "  "
            ]
          },
          "metadata": {},
          "execution_count": 26
        }
      ]
    },
    {
      "cell_type": "markdown",
      "source": [
        "#### Below is shown the **average** and **standard deviation** for the chosen variables **grouped by labels**<br><br>\n"
      ],
      "metadata": {
        "id": "adI3VMnzVqvB"
      }
    },
    {
      "cell_type": "code",
      "metadata": {
        "id": "BTGxp5occgJ9",
        "outputId": "b73219a1-d098-4d8e-8b2f-07fd8064cfda",
        "colab": {
          "base_uri": "https://localhost:8080/",
          "height": 187
        }
      },
      "source": [
        "adjusted_df.groupby(\"label\").mean()"
      ],
      "execution_count": 27,
      "outputs": [
        {
          "output_type": "execute_result",
          "data": {
            "text/plain": [
              "       Temperature (Mean) ºC.  Relative Humidity (Mean) %  \\\n",
              "label                                                       \n",
              "0                    0.743367                    0.401216   \n",
              "1                    0.401116                    0.642562   \n",
              "\n",
              "       Sea Level Pressure (Mean) hPa  Precipitation Total mm  \\\n",
              "label                                                          \n",
              "0                           0.485848                0.028240   \n",
              "1                           0.513304                0.124849   \n",
              "\n",
              "       Snowfall Amount cm  Sunshine Duration min  Wind Speed (Mean) Km/h  \n",
              "label                                                                     \n",
              "0                0.000000               0.717454                0.199858  \n",
              "1                0.025852               0.233484                0.341261  "
            ],
            "text/html": [
              "\n",
              "  <div id=\"df-cc413443-6c57-49c9-ae7e-aa4fce4960e4\">\n",
              "    <div class=\"colab-df-container\">\n",
              "      <div>\n",
              "<style scoped>\n",
              "    .dataframe tbody tr th:only-of-type {\n",
              "        vertical-align: middle;\n",
              "    }\n",
              "\n",
              "    .dataframe tbody tr th {\n",
              "        vertical-align: top;\n",
              "    }\n",
              "\n",
              "    .dataframe thead th {\n",
              "        text-align: right;\n",
              "    }\n",
              "</style>\n",
              "<table border=\"1\" class=\"dataframe\">\n",
              "  <thead>\n",
              "    <tr style=\"text-align: right;\">\n",
              "      <th></th>\n",
              "      <th>Temperature (Mean) ºC.</th>\n",
              "      <th>Relative Humidity (Mean) %</th>\n",
              "      <th>Sea Level Pressure (Mean) hPa</th>\n",
              "      <th>Precipitation Total mm</th>\n",
              "      <th>Snowfall Amount cm</th>\n",
              "      <th>Sunshine Duration min</th>\n",
              "      <th>Wind Speed (Mean) Km/h</th>\n",
              "    </tr>\n",
              "    <tr>\n",
              "      <th>label</th>\n",
              "      <th></th>\n",
              "      <th></th>\n",
              "      <th></th>\n",
              "      <th></th>\n",
              "      <th></th>\n",
              "      <th></th>\n",
              "      <th></th>\n",
              "    </tr>\n",
              "  </thead>\n",
              "  <tbody>\n",
              "    <tr>\n",
              "      <th>0</th>\n",
              "      <td>0.743367</td>\n",
              "      <td>0.401216</td>\n",
              "      <td>0.485848</td>\n",
              "      <td>0.028240</td>\n",
              "      <td>0.000000</td>\n",
              "      <td>0.717454</td>\n",
              "      <td>0.199858</td>\n",
              "    </tr>\n",
              "    <tr>\n",
              "      <th>1</th>\n",
              "      <td>0.401116</td>\n",
              "      <td>0.642562</td>\n",
              "      <td>0.513304</td>\n",
              "      <td>0.124849</td>\n",
              "      <td>0.025852</td>\n",
              "      <td>0.233484</td>\n",
              "      <td>0.341261</td>\n",
              "    </tr>\n",
              "  </tbody>\n",
              "</table>\n",
              "</div>\n",
              "      <button class=\"colab-df-convert\" onclick=\"convertToInteractive('df-cc413443-6c57-49c9-ae7e-aa4fce4960e4')\"\n",
              "              title=\"Convert this dataframe to an interactive table.\"\n",
              "              style=\"display:none;\">\n",
              "        \n",
              "  <svg xmlns=\"http://www.w3.org/2000/svg\" height=\"24px\"viewBox=\"0 0 24 24\"\n",
              "       width=\"24px\">\n",
              "    <path d=\"M0 0h24v24H0V0z\" fill=\"none\"/>\n",
              "    <path d=\"M18.56 5.44l.94 2.06.94-2.06 2.06-.94-2.06-.94-.94-2.06-.94 2.06-2.06.94zm-11 1L8.5 8.5l.94-2.06 2.06-.94-2.06-.94L8.5 2.5l-.94 2.06-2.06.94zm10 10l.94 2.06.94-2.06 2.06-.94-2.06-.94-.94-2.06-.94 2.06-2.06.94z\"/><path d=\"M17.41 7.96l-1.37-1.37c-.4-.4-.92-.59-1.43-.59-.52 0-1.04.2-1.43.59L10.3 9.45l-7.72 7.72c-.78.78-.78 2.05 0 2.83L4 21.41c.39.39.9.59 1.41.59.51 0 1.02-.2 1.41-.59l7.78-7.78 2.81-2.81c.8-.78.8-2.07 0-2.86zM5.41 20L4 18.59l7.72-7.72 1.47 1.35L5.41 20z\"/>\n",
              "  </svg>\n",
              "      </button>\n",
              "      \n",
              "  <style>\n",
              "    .colab-df-container {\n",
              "      display:flex;\n",
              "      flex-wrap:wrap;\n",
              "      gap: 12px;\n",
              "    }\n",
              "\n",
              "    .colab-df-convert {\n",
              "      background-color: #E8F0FE;\n",
              "      border: none;\n",
              "      border-radius: 50%;\n",
              "      cursor: pointer;\n",
              "      display: none;\n",
              "      fill: #1967D2;\n",
              "      height: 32px;\n",
              "      padding: 0 0 0 0;\n",
              "      width: 32px;\n",
              "    }\n",
              "\n",
              "    .colab-df-convert:hover {\n",
              "      background-color: #E2EBFA;\n",
              "      box-shadow: 0px 1px 2px rgba(60, 64, 67, 0.3), 0px 1px 3px 1px rgba(60, 64, 67, 0.15);\n",
              "      fill: #174EA6;\n",
              "    }\n",
              "\n",
              "    [theme=dark] .colab-df-convert {\n",
              "      background-color: #3B4455;\n",
              "      fill: #D2E3FC;\n",
              "    }\n",
              "\n",
              "    [theme=dark] .colab-df-convert:hover {\n",
              "      background-color: #434B5C;\n",
              "      box-shadow: 0px 1px 3px 1px rgba(0, 0, 0, 0.15);\n",
              "      filter: drop-shadow(0px 1px 2px rgba(0, 0, 0, 0.3));\n",
              "      fill: #FFFFFF;\n",
              "    }\n",
              "  </style>\n",
              "\n",
              "      <script>\n",
              "        const buttonEl =\n",
              "          document.querySelector('#df-cc413443-6c57-49c9-ae7e-aa4fce4960e4 button.colab-df-convert');\n",
              "        buttonEl.style.display =\n",
              "          google.colab.kernel.accessAllowed ? 'block' : 'none';\n",
              "\n",
              "        async function convertToInteractive(key) {\n",
              "          const element = document.querySelector('#df-cc413443-6c57-49c9-ae7e-aa4fce4960e4');\n",
              "          const dataTable =\n",
              "            await google.colab.kernel.invokeFunction('convertToInteractive',\n",
              "                                                     [key], {});\n",
              "          if (!dataTable) return;\n",
              "\n",
              "          const docLinkHtml = 'Like what you see? Visit the ' +\n",
              "            '<a target=\"_blank\" href=https://colab.research.google.com/notebooks/data_table.ipynb>data table notebook</a>'\n",
              "            + ' to learn more about interactive tables.';\n",
              "          element.innerHTML = '';\n",
              "          dataTable['output_type'] = 'display_data';\n",
              "          await google.colab.output.renderOutput(dataTable, element);\n",
              "          const docLink = document.createElement('div');\n",
              "          docLink.innerHTML = docLinkHtml;\n",
              "          element.appendChild(docLink);\n",
              "        }\n",
              "      </script>\n",
              "    </div>\n",
              "  </div>\n",
              "  "
            ]
          },
          "metadata": {},
          "execution_count": 27
        }
      ]
    },
    {
      "cell_type": "code",
      "source": [
        "adjusted_df.groupby(\"label\").std()"
      ],
      "metadata": {
        "id": "KhLJubLYR4Rq",
        "colab": {
          "base_uri": "https://localhost:8080/",
          "height": 187
        },
        "outputId": "82a202cd-c547-429d-fffa-52116d375db0"
      },
      "execution_count": 28,
      "outputs": [
        {
          "output_type": "execute_result",
          "data": {
            "text/plain": [
              "       Temperature (Mean) ºC.  Relative Humidity (Mean) %  \\\n",
              "label                                                       \n",
              "0                    0.125684                    0.135664   \n",
              "1                    0.177843                    0.139902   \n",
              "\n",
              "       Sea Level Pressure (Mean) hPa  Precipitation Total mm  \\\n",
              "label                                                          \n",
              "0                           0.093448                0.085436   \n",
              "1                           0.188886                0.211699   \n",
              "\n",
              "       Snowfall Amount cm  Sunshine Duration min  Wind Speed (Mean) Km/h  \n",
              "label                                                                     \n",
              "0                0.000000               0.185825                0.110681  \n",
              "1                0.118771               0.189907                0.208091  "
            ],
            "text/html": [
              "\n",
              "  <div id=\"df-d72b8b70-35ab-4d2e-a934-08db5ede48be\">\n",
              "    <div class=\"colab-df-container\">\n",
              "      <div>\n",
              "<style scoped>\n",
              "    .dataframe tbody tr th:only-of-type {\n",
              "        vertical-align: middle;\n",
              "    }\n",
              "\n",
              "    .dataframe tbody tr th {\n",
              "        vertical-align: top;\n",
              "    }\n",
              "\n",
              "    .dataframe thead th {\n",
              "        text-align: right;\n",
              "    }\n",
              "</style>\n",
              "<table border=\"1\" class=\"dataframe\">\n",
              "  <thead>\n",
              "    <tr style=\"text-align: right;\">\n",
              "      <th></th>\n",
              "      <th>Temperature (Mean) ºC.</th>\n",
              "      <th>Relative Humidity (Mean) %</th>\n",
              "      <th>Sea Level Pressure (Mean) hPa</th>\n",
              "      <th>Precipitation Total mm</th>\n",
              "      <th>Snowfall Amount cm</th>\n",
              "      <th>Sunshine Duration min</th>\n",
              "      <th>Wind Speed (Mean) Km/h</th>\n",
              "    </tr>\n",
              "    <tr>\n",
              "      <th>label</th>\n",
              "      <th></th>\n",
              "      <th></th>\n",
              "      <th></th>\n",
              "      <th></th>\n",
              "      <th></th>\n",
              "      <th></th>\n",
              "      <th></th>\n",
              "    </tr>\n",
              "  </thead>\n",
              "  <tbody>\n",
              "    <tr>\n",
              "      <th>0</th>\n",
              "      <td>0.125684</td>\n",
              "      <td>0.135664</td>\n",
              "      <td>0.093448</td>\n",
              "      <td>0.085436</td>\n",
              "      <td>0.000000</td>\n",
              "      <td>0.185825</td>\n",
              "      <td>0.110681</td>\n",
              "    </tr>\n",
              "    <tr>\n",
              "      <th>1</th>\n",
              "      <td>0.177843</td>\n",
              "      <td>0.139902</td>\n",
              "      <td>0.188886</td>\n",
              "      <td>0.211699</td>\n",
              "      <td>0.118771</td>\n",
              "      <td>0.189907</td>\n",
              "      <td>0.208091</td>\n",
              "    </tr>\n",
              "  </tbody>\n",
              "</table>\n",
              "</div>\n",
              "      <button class=\"colab-df-convert\" onclick=\"convertToInteractive('df-d72b8b70-35ab-4d2e-a934-08db5ede48be')\"\n",
              "              title=\"Convert this dataframe to an interactive table.\"\n",
              "              style=\"display:none;\">\n",
              "        \n",
              "  <svg xmlns=\"http://www.w3.org/2000/svg\" height=\"24px\"viewBox=\"0 0 24 24\"\n",
              "       width=\"24px\">\n",
              "    <path d=\"M0 0h24v24H0V0z\" fill=\"none\"/>\n",
              "    <path d=\"M18.56 5.44l.94 2.06.94-2.06 2.06-.94-2.06-.94-.94-2.06-.94 2.06-2.06.94zm-11 1L8.5 8.5l.94-2.06 2.06-.94-2.06-.94L8.5 2.5l-.94 2.06-2.06.94zm10 10l.94 2.06.94-2.06 2.06-.94-2.06-.94-.94-2.06-.94 2.06-2.06.94z\"/><path d=\"M17.41 7.96l-1.37-1.37c-.4-.4-.92-.59-1.43-.59-.52 0-1.04.2-1.43.59L10.3 9.45l-7.72 7.72c-.78.78-.78 2.05 0 2.83L4 21.41c.39.39.9.59 1.41.59.51 0 1.02-.2 1.41-.59l7.78-7.78 2.81-2.81c.8-.78.8-2.07 0-2.86zM5.41 20L4 18.59l7.72-7.72 1.47 1.35L5.41 20z\"/>\n",
              "  </svg>\n",
              "      </button>\n",
              "      \n",
              "  <style>\n",
              "    .colab-df-container {\n",
              "      display:flex;\n",
              "      flex-wrap:wrap;\n",
              "      gap: 12px;\n",
              "    }\n",
              "\n",
              "    .colab-df-convert {\n",
              "      background-color: #E8F0FE;\n",
              "      border: none;\n",
              "      border-radius: 50%;\n",
              "      cursor: pointer;\n",
              "      display: none;\n",
              "      fill: #1967D2;\n",
              "      height: 32px;\n",
              "      padding: 0 0 0 0;\n",
              "      width: 32px;\n",
              "    }\n",
              "\n",
              "    .colab-df-convert:hover {\n",
              "      background-color: #E2EBFA;\n",
              "      box-shadow: 0px 1px 2px rgba(60, 64, 67, 0.3), 0px 1px 3px 1px rgba(60, 64, 67, 0.15);\n",
              "      fill: #174EA6;\n",
              "    }\n",
              "\n",
              "    [theme=dark] .colab-df-convert {\n",
              "      background-color: #3B4455;\n",
              "      fill: #D2E3FC;\n",
              "    }\n",
              "\n",
              "    [theme=dark] .colab-df-convert:hover {\n",
              "      background-color: #434B5C;\n",
              "      box-shadow: 0px 1px 3px 1px rgba(0, 0, 0, 0.15);\n",
              "      filter: drop-shadow(0px 1px 2px rgba(0, 0, 0, 0.3));\n",
              "      fill: #FFFFFF;\n",
              "    }\n",
              "  </style>\n",
              "\n",
              "      <script>\n",
              "        const buttonEl =\n",
              "          document.querySelector('#df-d72b8b70-35ab-4d2e-a934-08db5ede48be button.colab-df-convert');\n",
              "        buttonEl.style.display =\n",
              "          google.colab.kernel.accessAllowed ? 'block' : 'none';\n",
              "\n",
              "        async function convertToInteractive(key) {\n",
              "          const element = document.querySelector('#df-d72b8b70-35ab-4d2e-a934-08db5ede48be');\n",
              "          const dataTable =\n",
              "            await google.colab.kernel.invokeFunction('convertToInteractive',\n",
              "                                                     [key], {});\n",
              "          if (!dataTable) return;\n",
              "\n",
              "          const docLinkHtml = 'Like what you see? Visit the ' +\n",
              "            '<a target=\"_blank\" href=https://colab.research.google.com/notebooks/data_table.ipynb>data table notebook</a>'\n",
              "            + ' to learn more about interactive tables.';\n",
              "          element.innerHTML = '';\n",
              "          dataTable['output_type'] = 'display_data';\n",
              "          await google.colab.output.renderOutput(dataTable, element);\n",
              "          const docLink = document.createElement('div');\n",
              "          docLink.innerHTML = docLinkHtml;\n",
              "          element.appendChild(docLink);\n",
              "        }\n",
              "      </script>\n",
              "    </div>\n",
              "  </div>\n",
              "  "
            ]
          },
          "metadata": {},
          "execution_count": 28
        }
      ]
    },
    {
      "cell_type": "markdown",
      "source": [
        "#### **Comparing cluster 0 with cluster 1**:\n",
        "\n",
        "- When **comparing cluster 0 with cluster 1**, it is **noticeable** that **data points in cluster 0** have **higher mean temperatures**, **lower mean relative humidity**, **lower total precipitation**, **substantial more sunshine duration** and **lower wind speed** and **no snowfall**.<br><br>\n",
        "- From the **comparison between cluster 0 and 1**, and considering that the data is a subset of data about climate in Basel, Switzerland, containing **records of data** from the **summer and the winter seasons**, we could **associate cluster 0 with typical summer days** and **cluster 1 with typical winter days** of the city of **Basel**.<br><br>\n",
        "- - - \n",
        "\n"
      ],
      "metadata": {
        "id": "ZIE_rsHtBp3U"
      }
    },
    {
      "cell_type": "code",
      "source": [
        "df_to_classify = pd.DataFrame(adjusted_projected, columns = [\"x1\", \"x2\", \"x3\"])\n",
        "df_to_classify[\"label\"] = final_labels\n",
        "df_to_classify[\"label\"] = df_to_classify[\"label\"]\n",
        "\n",
        "df_to_classify.head()"
      ],
      "metadata": {
        "colab": {
          "base_uri": "https://localhost:8080/",
          "height": 206
        },
        "id": "tH0J3gZJhuCu",
        "outputId": "4d87c6ab-1b47-40a5-c2ad-0ab7c31539e2"
      },
      "execution_count": 29,
      "outputs": [
        {
          "output_type": "execute_result",
          "data": {
            "text/plain": [
              "         x1        x2        x3  label\n",
              "0 -0.140519  0.128719 -0.048243      1\n",
              "1 -0.270158  0.027829 -0.174182      1\n",
              "2  0.418288 -0.116670 -0.071323      0\n",
              "3  0.592043 -0.090656 -0.059949      0\n",
              "4  0.143611  0.160800 -0.084077      0"
            ],
            "text/html": [
              "\n",
              "  <div id=\"df-55714158-f081-4b53-a310-d8f19e96f057\">\n",
              "    <div class=\"colab-df-container\">\n",
              "      <div>\n",
              "<style scoped>\n",
              "    .dataframe tbody tr th:only-of-type {\n",
              "        vertical-align: middle;\n",
              "    }\n",
              "\n",
              "    .dataframe tbody tr th {\n",
              "        vertical-align: top;\n",
              "    }\n",
              "\n",
              "    .dataframe thead th {\n",
              "        text-align: right;\n",
              "    }\n",
              "</style>\n",
              "<table border=\"1\" class=\"dataframe\">\n",
              "  <thead>\n",
              "    <tr style=\"text-align: right;\">\n",
              "      <th></th>\n",
              "      <th>x1</th>\n",
              "      <th>x2</th>\n",
              "      <th>x3</th>\n",
              "      <th>label</th>\n",
              "    </tr>\n",
              "  </thead>\n",
              "  <tbody>\n",
              "    <tr>\n",
              "      <th>0</th>\n",
              "      <td>-0.140519</td>\n",
              "      <td>0.128719</td>\n",
              "      <td>-0.048243</td>\n",
              "      <td>1</td>\n",
              "    </tr>\n",
              "    <tr>\n",
              "      <th>1</th>\n",
              "      <td>-0.270158</td>\n",
              "      <td>0.027829</td>\n",
              "      <td>-0.174182</td>\n",
              "      <td>1</td>\n",
              "    </tr>\n",
              "    <tr>\n",
              "      <th>2</th>\n",
              "      <td>0.418288</td>\n",
              "      <td>-0.116670</td>\n",
              "      <td>-0.071323</td>\n",
              "      <td>0</td>\n",
              "    </tr>\n",
              "    <tr>\n",
              "      <th>3</th>\n",
              "      <td>0.592043</td>\n",
              "      <td>-0.090656</td>\n",
              "      <td>-0.059949</td>\n",
              "      <td>0</td>\n",
              "    </tr>\n",
              "    <tr>\n",
              "      <th>4</th>\n",
              "      <td>0.143611</td>\n",
              "      <td>0.160800</td>\n",
              "      <td>-0.084077</td>\n",
              "      <td>0</td>\n",
              "    </tr>\n",
              "  </tbody>\n",
              "</table>\n",
              "</div>\n",
              "      <button class=\"colab-df-convert\" onclick=\"convertToInteractive('df-55714158-f081-4b53-a310-d8f19e96f057')\"\n",
              "              title=\"Convert this dataframe to an interactive table.\"\n",
              "              style=\"display:none;\">\n",
              "        \n",
              "  <svg xmlns=\"http://www.w3.org/2000/svg\" height=\"24px\"viewBox=\"0 0 24 24\"\n",
              "       width=\"24px\">\n",
              "    <path d=\"M0 0h24v24H0V0z\" fill=\"none\"/>\n",
              "    <path d=\"M18.56 5.44l.94 2.06.94-2.06 2.06-.94-2.06-.94-.94-2.06-.94 2.06-2.06.94zm-11 1L8.5 8.5l.94-2.06 2.06-.94-2.06-.94L8.5 2.5l-.94 2.06-2.06.94zm10 10l.94 2.06.94-2.06 2.06-.94-2.06-.94-.94-2.06-.94 2.06-2.06.94z\"/><path d=\"M17.41 7.96l-1.37-1.37c-.4-.4-.92-.59-1.43-.59-.52 0-1.04.2-1.43.59L10.3 9.45l-7.72 7.72c-.78.78-.78 2.05 0 2.83L4 21.41c.39.39.9.59 1.41.59.51 0 1.02-.2 1.41-.59l7.78-7.78 2.81-2.81c.8-.78.8-2.07 0-2.86zM5.41 20L4 18.59l7.72-7.72 1.47 1.35L5.41 20z\"/>\n",
              "  </svg>\n",
              "      </button>\n",
              "      \n",
              "  <style>\n",
              "    .colab-df-container {\n",
              "      display:flex;\n",
              "      flex-wrap:wrap;\n",
              "      gap: 12px;\n",
              "    }\n",
              "\n",
              "    .colab-df-convert {\n",
              "      background-color: #E8F0FE;\n",
              "      border: none;\n",
              "      border-radius: 50%;\n",
              "      cursor: pointer;\n",
              "      display: none;\n",
              "      fill: #1967D2;\n",
              "      height: 32px;\n",
              "      padding: 0 0 0 0;\n",
              "      width: 32px;\n",
              "    }\n",
              "\n",
              "    .colab-df-convert:hover {\n",
              "      background-color: #E2EBFA;\n",
              "      box-shadow: 0px 1px 2px rgba(60, 64, 67, 0.3), 0px 1px 3px 1px rgba(60, 64, 67, 0.15);\n",
              "      fill: #174EA6;\n",
              "    }\n",
              "\n",
              "    [theme=dark] .colab-df-convert {\n",
              "      background-color: #3B4455;\n",
              "      fill: #D2E3FC;\n",
              "    }\n",
              "\n",
              "    [theme=dark] .colab-df-convert:hover {\n",
              "      background-color: #434B5C;\n",
              "      box-shadow: 0px 1px 3px 1px rgba(0, 0, 0, 0.15);\n",
              "      filter: drop-shadow(0px 1px 2px rgba(0, 0, 0, 0.3));\n",
              "      fill: #FFFFFF;\n",
              "    }\n",
              "  </style>\n",
              "\n",
              "      <script>\n",
              "        const buttonEl =\n",
              "          document.querySelector('#df-55714158-f081-4b53-a310-d8f19e96f057 button.colab-df-convert');\n",
              "        buttonEl.style.display =\n",
              "          google.colab.kernel.accessAllowed ? 'block' : 'none';\n",
              "\n",
              "        async function convertToInteractive(key) {\n",
              "          const element = document.querySelector('#df-55714158-f081-4b53-a310-d8f19e96f057');\n",
              "          const dataTable =\n",
              "            await google.colab.kernel.invokeFunction('convertToInteractive',\n",
              "                                                     [key], {});\n",
              "          if (!dataTable) return;\n",
              "\n",
              "          const docLinkHtml = 'Like what you see? Visit the ' +\n",
              "            '<a target=\"_blank\" href=https://colab.research.google.com/notebooks/data_table.ipynb>data table notebook</a>'\n",
              "            + ' to learn more about interactive tables.';\n",
              "          element.innerHTML = '';\n",
              "          dataTable['output_type'] = 'display_data';\n",
              "          await google.colab.output.renderOutput(dataTable, element);\n",
              "          const docLink = document.createElement('div');\n",
              "          docLink.innerHTML = docLinkHtml;\n",
              "          element.appendChild(docLink);\n",
              "        }\n",
              "      </script>\n",
              "    </div>\n",
              "  </div>\n",
              "  "
            ]
          },
          "metadata": {},
          "execution_count": 29
        }
      ]
    },
    {
      "cell_type": "markdown",
      "source": [
        "#### **Only after clustering our data and saving the resulting cluster labels, can we train the classifiers using these labels as a target variable. By saving the labels we effectively seperate the steps of clustering and classification**.<br><br>\n",
        "- - - "
      ],
      "metadata": {
        "id": "tnNCaav9KCxG"
      }
    },
    {
      "cell_type": "markdown",
      "source": [
        "## 3 - **Classification**<br>\n"
      ],
      "metadata": {
        "id": "x_scKDsFnPUQ"
      }
    },
    {
      "cell_type": "markdown",
      "source": [
        "#### **Train-Test Split**"
      ],
      "metadata": {
        "id": "2OvBJ6x2nUI9"
      }
    },
    {
      "cell_type": "code",
      "metadata": {
        "id": "nfAXlOTpcgKI"
      },
      "source": [
        "X = df_to_classify[df_to_classify.columns[:-1]]\n",
        "y = df_to_classify[\"label\"]"
      ],
      "execution_count": 31,
      "outputs": []
    },
    {
      "cell_type": "code",
      "metadata": {
        "id": "TDEavm9DcgKJ"
      },
      "source": [
        "X_train, X_test, y_train, y_test = train_test_split(X, y, test_size=0.2, random_state=0)"
      ],
      "execution_count": 32,
      "outputs": []
    },
    {
      "cell_type": "code",
      "metadata": {
        "id": "5GiYjzIOcgKM",
        "outputId": "f556915a-3ced-49cd-ac1e-054de5ee2b51",
        "colab": {
          "base_uri": "https://localhost:8080/"
        }
      },
      "source": [
        "X_train.shape"
      ],
      "execution_count": 33,
      "outputs": [
        {
          "output_type": "execute_result",
          "data": {
            "text/plain": [
              "(1320, 3)"
            ]
          },
          "metadata": {},
          "execution_count": 33
        }
      ]
    },
    {
      "cell_type": "code",
      "metadata": {
        "id": "wWNB4cawcgKO",
        "outputId": "f0be0485-1dd5-44c2-b05e-8ec2ee515187",
        "colab": {
          "base_uri": "https://localhost:8080/"
        }
      },
      "source": [
        "X_test.shape"
      ],
      "execution_count": 34,
      "outputs": [
        {
          "output_type": "execute_result",
          "data": {
            "text/plain": [
              "(330, 3)"
            ]
          },
          "metadata": {},
          "execution_count": 34
        }
      ]
    },
    {
      "cell_type": "markdown",
      "metadata": {
        "id": "N9cl3CsScgKS"
      },
      "source": [
        "#### **K-NN Classifier using Hyperparameter Tuning** with  **GridSeachCV:**"
      ]
    },
    {
      "cell_type": "code",
      "metadata": {
        "id": "U89YGskAcgKT",
        "outputId": "c3f1d400-d0df-40ab-dcfc-57ddd581e287",
        "colab": {
          "base_uri": "https://localhost:8080/"
        }
      },
      "source": [
        "%%time\n",
        "neigh = KNeighborsClassifier()\n",
        "param_grid = {'n_neighbors': np.arange(1, 25)}\n",
        "neigh_gscv = GridSearchCV(neigh, param_grid, cv=5)\n",
        "neigh_gscv.fit(X_train, y_train)"
      ],
      "execution_count": 35,
      "outputs": [
        {
          "output_type": "stream",
          "name": "stdout",
          "text": [
            "CPU times: user 1.5 s, sys: 31.5 ms, total: 1.53 s\n",
            "Wall time: 1.5 s\n"
          ]
        }
      ]
    },
    {
      "cell_type": "code",
      "source": [
        "print('Best number of neighbors:', neigh_gscv.best_estimator_.get_params()['n_neighbors'])"
      ],
      "metadata": {
        "id": "jPp2uKDiS60g",
        "colab": {
          "base_uri": "https://localhost:8080/"
        },
        "outputId": "19847633-9923-4a16-e5ef-1a397cc141e0"
      },
      "execution_count": 36,
      "outputs": [
        {
          "output_type": "stream",
          "name": "stdout",
          "text": [
            "Best number of neighbors: 6\n"
          ]
        }
      ]
    },
    {
      "cell_type": "code",
      "metadata": {
        "id": "FFcwJJFzcgKV"
      },
      "source": [
        "neigh_predict = neigh_gscv.predict(X_test)"
      ],
      "execution_count": 37,
      "outputs": []
    },
    {
      "cell_type": "code",
      "metadata": {
        "id": "ARLuZemGcgKX",
        "outputId": "1c0725db-3c8a-42b1-ffac-f034ebe75620",
        "colab": {
          "base_uri": "https://localhost:8080/"
        }
      },
      "source": [
        "print(classification_report(neigh_predict, y_test))"
      ],
      "execution_count": 38,
      "outputs": [
        {
          "output_type": "stream",
          "name": "stdout",
          "text": [
            "              precision    recall  f1-score   support\n",
            "\n",
            "           0       0.99      0.99      0.99       151\n",
            "           1       0.99      0.99      0.99       179\n",
            "\n",
            "    accuracy                           0.99       330\n",
            "   macro avg       0.99      0.99      0.99       330\n",
            "weighted avg       0.99      0.99      0.99       330\n",
            "\n"
          ]
        }
      ]
    },
    {
      "cell_type": "markdown",
      "metadata": {
        "id": "v2N2xwxicgKc"
      },
      "source": [
        "#### **SVM Classifier using Hyperparameter Tuning** with  **GridSeachCV:**"
      ]
    },
    {
      "cell_type": "code",
      "metadata": {
        "id": "yQdnmQuOcgKl",
        "colab": {
          "base_uri": "https://localhost:8080/"
        },
        "outputId": "f4d7da60-1960-48cf-e42c-c5d443df9037"
      },
      "source": [
        "%%time\n",
        "svm_classifier = svm.SVC(random_state=123)\n",
        "param_grid_svm = [\n",
        "    {'kernel':('linear', 'rbf')},\n",
        "    {'C':[ 0.8, 1, 1.2, 1.4, 1.5, 1.6]},\n",
        "]    \n",
        "svm_gscv = GridSearchCV(svm_classifier, param_grid_svm, cv=5)\n",
        "svm_gscv.fit(X_train, y_train)"
      ],
      "execution_count": 40,
      "outputs": [
        {
          "output_type": "stream",
          "name": "stdout",
          "text": [
            "CPU times: user 453 ms, sys: 1.32 ms, total: 455 ms\n",
            "Wall time: 454 ms\n"
          ]
        }
      ]
    },
    {
      "cell_type": "code",
      "source": [
        "print('Best KERNEL:', svm_gscv.best_estimator_.get_params()['kernel'])\n",
        "print('Best C:', svm_gscv.best_estimator_.get_params()['C'])"
      ],
      "metadata": {
        "colab": {
          "base_uri": "https://localhost:8080/"
        },
        "id": "O0oVDABnmmpr",
        "outputId": "fd604d8f-20ab-47e0-c81d-9c497f1b66f8"
      },
      "execution_count": 41,
      "outputs": [
        {
          "output_type": "stream",
          "name": "stdout",
          "text": [
            "Best KERNEL: rbf\n",
            "Best C: 1.5\n"
          ]
        }
      ]
    },
    {
      "cell_type": "code",
      "source": [
        "svm_predict = svm_gscv.predict(X_test)"
      ],
      "metadata": {
        "id": "cMpdRXu9mmtT"
      },
      "execution_count": 42,
      "outputs": []
    },
    {
      "cell_type": "code",
      "source": [
        "print(classification_report(svm_predict, y_test))"
      ],
      "metadata": {
        "colab": {
          "base_uri": "https://localhost:8080/"
        },
        "id": "Wbw3bDbNnS2M",
        "outputId": "d79aa730-1f7a-4061-9696-514eef42fd9e"
      },
      "execution_count": 43,
      "outputs": [
        {
          "output_type": "stream",
          "name": "stdout",
          "text": [
            "              precision    recall  f1-score   support\n",
            "\n",
            "           0       0.97      1.00      0.99       147\n",
            "           1       1.00      0.98      0.99       183\n",
            "\n",
            "    accuracy                           0.99       330\n",
            "   macro avg       0.99      0.99      0.99       330\n",
            "weighted avg       0.99      0.99      0.99       330\n",
            "\n"
          ]
        }
      ]
    },
    {
      "cell_type": "markdown",
      "source": [
        "### **Conclusions:**  \n",
        "- We managed to **clearly identify** 2 **distinct groups of data points** - **clusters** - **within** the **dataset** (**summer** and **winter** days). \n",
        "- **Using** the **resulting cluster labels** we **trained 2 classifiers**  using **hyperparameter tuning** with  **GridSeachCV** which allowed us to **achieve very high values** for **all the considered metrics**.\n",
        "\n",
        "\n",
        "\n",
        "\n"
      ],
      "metadata": {
        "id": "Und3nS71evm7"
      }
    }
  ]
}